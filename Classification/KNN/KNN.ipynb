{
 "cells": [
  {
   "cell_type": "markdown",
   "id": "84b5424c-b8a1-4f9e-b448-c4288a8a004d",
   "metadata": {},
   "source": [
    "### K - Nearest Neighbors\n",
    "Basic Example of K - Nearest Neighbors implementation"
   ]
  },
  {
   "cell_type": "markdown",
   "id": "d1ba25ce-32aa-4ca3-8125-0dc0229a0ee6",
   "metadata": {},
   "source": [
    "## About the Data\n",
    "\n",
    "Data Set Information:\n",
    "\n",
    "The dataset is Electronic Health Record Predicting collected from a private Hospital in Indonesia. It contains the patients laboratory test results used to determine next patient treatment whether in care or out care patient. The task embedded to the dataset is classification prediction. \n",
    "Attribute Information:\n",
    "Given is the attribute name, attribute type, the measurement unit and a brief description. The number of rings is the value to predict: either as a continuous value or as a classification problem. \n",
    "\n",
    "* HAEMATOCRIT: Patient laboratory test result of haematocrit\n",
    "* HAEMOGLOBINS: Patient laboratory test result of haemoglobins\n",
    "* ERYTHROCYTE: Patient laboratory test result of erythrocyte\n",
    "* LEUCOCYTE: Patient laboratory test result of leucocyte\n",
    "* THROMBOCYTE: Patient laboratory test result of thrombocyte\n",
    "* MCH: Patient laboratory test result of MCH\n",
    "* MCHC: Patient laboratory test result of MCHC\n",
    "* MCV: Patient laboratory test result of MCV\n",
    "* AGE: Patient age\n",
    "* SEX: Patient gender\n",
    "* SOURCE: The class target in.= in care patient, out = out care patient\n",
    "\n",
    "\n",
    "Dataset Source: https://www.kaggle.com/datasets/saurabhshahane/patient-treatment-classification"
   ]
  },
  {
   "cell_type": "markdown",
   "id": "b05a16df-ecb2-474f-bfcc-44e302de6c1f",
   "metadata": {},
   "source": [
    "## 1. Importing Libraries"
   ]
  },
  {
   "cell_type": "code",
   "execution_count": 1,
   "id": "f07eff55-9ba0-49d9-a08c-483c29406db0",
   "metadata": {},
   "outputs": [],
   "source": [
    "# Data handling\n",
    "import pandas as pd\n",
    "\n",
    "# for model creation and evaluation\n",
    "from sklearn.neighbors import KNeighborsClassifier\n",
    "from sklearn.model_selection import train_test_split\n",
    "\n",
    "# Data Preprocessing\n",
    "from sklearn.preprocessing import StandardScaler\n",
    "# performance metrics\n",
    "from sklearn.metrics import precision_score, recall_score, accuracy_score, f1_score, confusion_matrix, ConfusionMatrixDisplay\n",
    "\n",
    "# for tree vizualisation\n",
    "from sklearn import tree\n",
    "import matplotlib.pyplot as plt\n",
    "import seaborn as sns\n",
    "\n",
    "# supress warnings\n",
    "import warnings\n",
    "warnings.simplefilter('ignore')"
   ]
  },
  {
   "cell_type": "markdown",
   "id": "88816ccf-a188-417e-9323-3fc90380d72d",
   "metadata": {},
   "source": [
    "## 2. Data Load & Overview"
   ]
  },
  {
   "cell_type": "code",
   "execution_count": 2,
   "id": "888455fe-d315-48d4-b071-894d37f88dc4",
   "metadata": {},
   "outputs": [],
   "source": [
    "# importing data\n",
    "data = pd.read_csv('../Data/patient_data.csv')"
   ]
  },
  {
   "cell_type": "code",
   "execution_count": 3,
   "id": "08613d2d-70a2-41f1-b0aa-2ee2d5412b45",
   "metadata": {},
   "outputs": [],
   "source": [
    "# creating a copy of the dataset to avoid permanent changes\n",
    "df = data.copy()"
   ]
  },
  {
   "cell_type": "code",
   "execution_count": 4,
   "id": "091a53f3-ab42-482e-a223-94faccf38288",
   "metadata": {},
   "outputs": [
    {
     "name": "stdout",
     "output_type": "stream",
     "text": [
      " *There are 4412 observations\n",
      " *There are 11 variables including a dependant variable\n"
     ]
    }
   ],
   "source": [
    "# looking at the size of the dataset\n",
    "print(f' *There are {df.shape[0]} observations')\n",
    "print(f' *There are {df.shape[1]} variables including a dependant variable')"
   ]
  },
  {
   "cell_type": "code",
   "execution_count": 5,
   "id": "ee9a55e3-0bf1-4f99-b9de-3cd1d896a12e",
   "metadata": {},
   "outputs": [
    {
     "data": {
      "text/html": [
       "<div>\n",
       "<style scoped>\n",
       "    .dataframe tbody tr th:only-of-type {\n",
       "        vertical-align: middle;\n",
       "    }\n",
       "\n",
       "    .dataframe tbody tr th {\n",
       "        vertical-align: top;\n",
       "    }\n",
       "\n",
       "    .dataframe thead th {\n",
       "        text-align: right;\n",
       "    }\n",
       "</style>\n",
       "<table border=\"1\" class=\"dataframe\">\n",
       "  <thead>\n",
       "    <tr style=\"text-align: right;\">\n",
       "      <th></th>\n",
       "      <th>HAEMATOCRIT</th>\n",
       "      <th>HAEMOGLOBINS</th>\n",
       "      <th>ERYTHROCYTE</th>\n",
       "      <th>LEUCOCYTE</th>\n",
       "      <th>THROMBOCYTE</th>\n",
       "      <th>MCH</th>\n",
       "      <th>MCHC</th>\n",
       "      <th>MCV</th>\n",
       "      <th>AGE</th>\n",
       "      <th>SEX</th>\n",
       "      <th>SOURCE</th>\n",
       "    </tr>\n",
       "  </thead>\n",
       "  <tbody>\n",
       "    <tr>\n",
       "      <th>0</th>\n",
       "      <td>35.1</td>\n",
       "      <td>11.8</td>\n",
       "      <td>4.65</td>\n",
       "      <td>6.3</td>\n",
       "      <td>310</td>\n",
       "      <td>25.4</td>\n",
       "      <td>33.6</td>\n",
       "      <td>75.5</td>\n",
       "      <td>1</td>\n",
       "      <td>F</td>\n",
       "      <td>out</td>\n",
       "    </tr>\n",
       "    <tr>\n",
       "      <th>1</th>\n",
       "      <td>43.5</td>\n",
       "      <td>14.8</td>\n",
       "      <td>5.39</td>\n",
       "      <td>12.7</td>\n",
       "      <td>334</td>\n",
       "      <td>27.5</td>\n",
       "      <td>34.0</td>\n",
       "      <td>80.7</td>\n",
       "      <td>1</td>\n",
       "      <td>F</td>\n",
       "      <td>out</td>\n",
       "    </tr>\n",
       "    <tr>\n",
       "      <th>2</th>\n",
       "      <td>33.5</td>\n",
       "      <td>11.3</td>\n",
       "      <td>4.74</td>\n",
       "      <td>13.2</td>\n",
       "      <td>305</td>\n",
       "      <td>23.8</td>\n",
       "      <td>33.7</td>\n",
       "      <td>70.7</td>\n",
       "      <td>1</td>\n",
       "      <td>F</td>\n",
       "      <td>out</td>\n",
       "    </tr>\n",
       "    <tr>\n",
       "      <th>3</th>\n",
       "      <td>39.1</td>\n",
       "      <td>13.7</td>\n",
       "      <td>4.98</td>\n",
       "      <td>10.5</td>\n",
       "      <td>366</td>\n",
       "      <td>27.5</td>\n",
       "      <td>35.0</td>\n",
       "      <td>78.5</td>\n",
       "      <td>1</td>\n",
       "      <td>F</td>\n",
       "      <td>out</td>\n",
       "    </tr>\n",
       "    <tr>\n",
       "      <th>4</th>\n",
       "      <td>30.9</td>\n",
       "      <td>9.9</td>\n",
       "      <td>4.23</td>\n",
       "      <td>22.1</td>\n",
       "      <td>333</td>\n",
       "      <td>23.4</td>\n",
       "      <td>32.0</td>\n",
       "      <td>73.0</td>\n",
       "      <td>1</td>\n",
       "      <td>M</td>\n",
       "      <td>out</td>\n",
       "    </tr>\n",
       "  </tbody>\n",
       "</table>\n",
       "</div>"
      ],
      "text/plain": [
       "   HAEMATOCRIT  HAEMOGLOBINS  ERYTHROCYTE  LEUCOCYTE  THROMBOCYTE   MCH  MCHC  \\\n",
       "0         35.1          11.8         4.65        6.3          310  25.4  33.6   \n",
       "1         43.5          14.8         5.39       12.7          334  27.5  34.0   \n",
       "2         33.5          11.3         4.74       13.2          305  23.8  33.7   \n",
       "3         39.1          13.7         4.98       10.5          366  27.5  35.0   \n",
       "4         30.9           9.9         4.23       22.1          333  23.4  32.0   \n",
       "\n",
       "    MCV  AGE SEX SOURCE  \n",
       "0  75.5    1   F    out  \n",
       "1  80.7    1   F    out  \n",
       "2  70.7    1   F    out  \n",
       "3  78.5    1   F    out  \n",
       "4  73.0    1   M    out  "
      ]
     },
     "execution_count": 5,
     "metadata": {},
     "output_type": "execute_result"
    }
   ],
   "source": [
    "# looking at the data\n",
    "df.head()"
   ]
  },
  {
   "cell_type": "markdown",
   "id": "f3feaba5-eb06-4851-9d6e-288346da88a7",
   "metadata": {},
   "source": [
    "* Almost all of the features are continious which is good when using GaussianNB classification\n",
    "* `SEX` is the only variable that will need to be encoded"
   ]
  },
  {
   "cell_type": "markdown",
   "id": "de11e545-cc59-4114-a2b5-ed228923cc70",
   "metadata": {},
   "source": [
    "## 3. Data Preprocessing"
   ]
  },
  {
   "cell_type": "code",
   "execution_count": 6,
   "id": "d97122f3-8d2c-4465-b70c-6ee655029dce",
   "metadata": {},
   "outputs": [],
   "source": [
    "# converting both the 'sex' and 'source' columns to category type\n",
    "df[[\"SEX\",\"SOURCE\"]] = df[[\"SEX\",\"SOURCE\"]].astype('category')"
   ]
  },
  {
   "cell_type": "code",
   "execution_count": 7,
   "id": "a8353e21-f78b-4542-9c1c-d33403e8b3ea",
   "metadata": {},
   "outputs": [],
   "source": [
    "# encoding the \"SEX\" variable\n",
    "df['SEX'] = df['SEX'].cat.codes\n",
    "df['SOURCE'] = df['SOURCE'].cat.codes"
   ]
  },
  {
   "cell_type": "code",
   "execution_count": 8,
   "id": "fcc500cc-b456-4c6a-a708-0f4f38918947",
   "metadata": {},
   "outputs": [],
   "source": [
    "# splitting data\n",
    "X = df.drop('SOURCE', axis=1) # independant variables\n",
    "y = df['SOURCE']                # dependant variable\n",
    "\n",
    "\n",
    "# defining scaler\n",
    "scaler = StandardScaler()\n",
    "\n",
    "# scaling data\n",
    "X_scaled = scaler.fit_transform(X)"
   ]
  },
  {
   "cell_type": "markdown",
   "id": "795948e4-3161-472a-9b4b-dc706babbb3a",
   "metadata": {},
   "source": [
    "### 4. Model\n",
    "\n",
    "* Build Model\n",
    "* Evaluate Model\n",
    "* Make predictions\n",
    "* visualize model"
   ]
  },
  {
   "cell_type": "code",
   "execution_count": 9,
   "id": "060db0cb-d56c-47d4-8d20-47a33b08d591",
   "metadata": {},
   "outputs": [],
   "source": [
    "\n",
    "# Splitting data 7:3 into train and test data \n",
    "X_train, X_test, y_train, y_test = train_test_split(X_scaled, y, test_size = 0.3, random_state = 1)"
   ]
  },
  {
   "cell_type": "code",
   "execution_count": 10,
   "id": "f370b778-31ee-4957-9046-e7a76d79acc9",
   "metadata": {},
   "outputs": [],
   "source": [
    "# Defining Model -- Setting probability = True in order to be able to obtain probabilites from the model\n",
    "model = KNeighborsClassifier()\n",
    "\n",
    "# Training model\n",
    "model.fit(X_train, y_train);\n"
   ]
  },
  {
   "cell_type": "markdown",
   "id": "83cf9954-ff92-42ff-b280-7b5d86ad0d87",
   "metadata": {},
   "source": [
    "### 4.2 Evaluate Model\n",
    "\n",
    "* Checking Accuracy of model in both training and testing data"
   ]
  },
  {
   "cell_type": "code",
   "execution_count": 11,
   "id": "be931611-ed4a-47da-a59a-fd1683c7e750",
   "metadata": {},
   "outputs": [],
   "source": [
    "# function for looking at the performance of a classification model\n",
    "def model_performance(model, predictors, target):\n",
    "    \"\"\"\n",
    "    Function to compute different metrics to check classification model performance\n",
    "\n",
    "    model: classifier\n",
    "    predictors: independent variables\n",
    "    target: dependent variable\n",
    "    \"\"\"\n",
    "\n",
    "    # predicting using the independent variables\n",
    "    pred = model.predict(predictors)\n",
    "\n",
    "    acc = accuracy_score(target, pred)  # to compute Accuracy\n",
    "    recall = recall_score(target, pred)  # to compute Recall\n",
    "    precision = precision_score(target, pred)  # to compute Precision\n",
    "    f1 = f1_score(target, pred)  # to compute F1-score\n",
    "\n",
    "    # creating a dataframe of metrics\n",
    "    df_perf = pd.DataFrame(\n",
    "        {\n",
    "            \"Accuracy\": acc,\n",
    "            \"Recall\": recall,\n",
    "            \"Precision\": precision,\n",
    "            \"F1\": f1\n",
    "            \n",
    "        },\n",
    "        index=[0],\n",
    "    )\n",
    "\n",
    "    return df_perf"
   ]
  },
  {
   "cell_type": "code",
   "execution_count": 12,
   "id": "4d6b3418-c747-4c00-913d-233233317e6d",
   "metadata": {},
   "outputs": [
    {
     "data": {
      "text/html": [
       "<div>\n",
       "<style scoped>\n",
       "    .dataframe tbody tr th:only-of-type {\n",
       "        vertical-align: middle;\n",
       "    }\n",
       "\n",
       "    .dataframe tbody tr th {\n",
       "        vertical-align: top;\n",
       "    }\n",
       "\n",
       "    .dataframe thead th {\n",
       "        text-align: right;\n",
       "    }\n",
       "</style>\n",
       "<table border=\"1\" class=\"dataframe\">\n",
       "  <thead>\n",
       "    <tr style=\"text-align: right;\">\n",
       "      <th></th>\n",
       "      <th>Accuracy</th>\n",
       "      <th>Recall</th>\n",
       "      <th>Precision</th>\n",
       "      <th>F1</th>\n",
       "    </tr>\n",
       "  </thead>\n",
       "  <tbody>\n",
       "    <tr>\n",
       "      <th>0</th>\n",
       "      <td>0.810557</td>\n",
       "      <td>0.874591</td>\n",
       "      <td>0.818785</td>\n",
       "      <td>0.845769</td>\n",
       "    </tr>\n",
       "  </tbody>\n",
       "</table>\n",
       "</div>"
      ],
      "text/plain": [
       "   Accuracy    Recall  Precision        F1\n",
       "0  0.810557  0.874591   0.818785  0.845769"
      ]
     },
     "metadata": {},
     "output_type": "display_data"
    },
    {
     "data": {
      "text/html": [
       "<div>\n",
       "<style scoped>\n",
       "    .dataframe tbody tr th:only-of-type {\n",
       "        vertical-align: middle;\n",
       "    }\n",
       "\n",
       "    .dataframe tbody tr th {\n",
       "        vertical-align: top;\n",
       "    }\n",
       "\n",
       "    .dataframe thead th {\n",
       "        text-align: right;\n",
       "    }\n",
       "</style>\n",
       "<table border=\"1\" class=\"dataframe\">\n",
       "  <thead>\n",
       "    <tr style=\"text-align: right;\">\n",
       "      <th></th>\n",
       "      <th>Accuracy</th>\n",
       "      <th>Recall</th>\n",
       "      <th>Precision</th>\n",
       "      <th>F1</th>\n",
       "    </tr>\n",
       "  </thead>\n",
       "  <tbody>\n",
       "    <tr>\n",
       "      <th>0</th>\n",
       "      <td>0.723565</td>\n",
       "      <td>0.793451</td>\n",
       "      <td>0.757212</td>\n",
       "      <td>0.774908</td>\n",
       "    </tr>\n",
       "  </tbody>\n",
       "</table>\n",
       "</div>"
      ],
      "text/plain": [
       "   Accuracy    Recall  Precision        F1\n",
       "0  0.723565  0.793451   0.757212  0.774908"
      ]
     },
     "metadata": {},
     "output_type": "display_data"
    }
   ],
   "source": [
    "# looking at performance metrics for training and testing data\n",
    "display(model_performance(model,X_train,y_train))\n",
    "display(model_performance(model,X_test,y_test))"
   ]
  },
  {
   "cell_type": "markdown",
   "id": "e847bdf2-1d69-4adf-8f19-44c742db7493",
   "metadata": {},
   "source": [
    "Model returned similar accuracy for both training and testing data, indicating there is no overfitting"
   ]
  },
  {
   "cell_type": "markdown",
   "id": "702b0d45-62e6-4a07-8c80-2f20eeb677a4",
   "metadata": {},
   "source": [
    "## 4.3 Making a prediction"
   ]
  },
  {
   "cell_type": "code",
   "execution_count": 13,
   "id": "ee4b32c8-981b-4590-99cb-ad3f47115e03",
   "metadata": {},
   "outputs": [
    {
     "name": "stdout",
     "output_type": "stream",
     "text": [
      "Based on the entered values, the model predicts that there is a 60.00 % probability that the patient should have an Out Patient patient visit next time\n"
     ]
    }
   ],
   "source": [
    "# creating feature values for prediction\n",
    "predictors = [[35.1,11.8,4.65,6.3,310,25.4,33.6,75.5,1,0]]\n",
    "\n",
    "# making a prediction on the created feature values\n",
    "pred = model.predict(predictors)\n",
    "pred_prob = model.predict_proba(predictors)\n",
    "\n",
    "# defining a key for predicted labels\n",
    "key = {1:'In Patient', 0:'Out Patient'}\n",
    "\n",
    "print(f'Based on the entered values, the model predicts that there is a {pred_prob[0][0]*100:.2f} % probability that the patient should have an {key[pred[0]]} patient visit next time')"
   ]
  },
  {
   "cell_type": "markdown",
   "id": "ec07a091-4b42-41eb-a44d-ae8e7cf386ca",
   "metadata": {},
   "source": [
    "## 4.3.1 Describing performance of model predictions"
   ]
  },
  {
   "cell_type": "code",
   "execution_count": 14,
   "id": "5dc5b234-5476-4c17-a44a-da84d9846df1",
   "metadata": {},
   "outputs": [],
   "source": [
    "# Function to display model confusion_matrix\n",
    "def c_matrix(y_test,y_pred):\n",
    "    cm_display = ConfusionMatrixDisplay(confusion_matrix = confusion_matrix(y_test, y_pred), display_labels=['In Patient', 'Out Patient'] )\n",
    "    cm_display.plot()\n",
    "    plt.show()"
   ]
  },
  {
   "cell_type": "code",
   "execution_count": 15,
   "id": "cc7d8fc6-e052-4fcc-bc31-5b4927717a06",
   "metadata": {},
   "outputs": [
    {
     "data": {
      "image/png": "[encoded data removed]",
      "text/plain": [
       "<Figure size 640x480 with 2 Axes>"
      ]
     },
     "metadata": {},
     "output_type": "display_data"
    }
   ],
   "source": [
    "# getting predictions for the testing data\n",
    "predictions = model.predict(X_test)\n",
    "\n",
    "# creating confusion matrix\n",
    "c_matrix(y_test,predictions)"
   ]
  },
  {
   "cell_type": "markdown",
   "id": "8d79dd45-573d-43f8-b107-d06ea28111a6",
   "metadata": {},
   "source": [
    "Observations:\n",
    "\n",
    "* 328 True Positives: correctly predicted as positive (malicious)\n",
    "* 630 True Negatives: correctly predicted as negative (legitimate)\n",
    "* 164 False Negativs: incorrectly predicted as negative\n",
    "* 202 False Positives: incorrectly predicted as positive"
   ]
  },
  {
   "cell_type": "markdown",
   "id": "ced5ca1a-6edb-4d62-a5b6-d2b924152dae",
   "metadata": {},
   "source": [
    "## 5. Hyper Parameter Tuning"
   ]
  },
  {
   "cell_type": "code",
   "execution_count": 16,
   "id": "cea8078b-5cf8-48eb-b17f-7b95bec800ab",
   "metadata": {},
   "outputs": [
    {
     "name": "stdout",
     "output_type": "stream",
     "text": [
      "n_neighbors = 1\n",
      "Accuracy on training set: 1.00\n",
      "Accuracy on test set: 0.68\n",
      "\n",
      "n_neighbors = 2\n",
      "Accuracy on training set: 0.83\n",
      "Accuracy on test set: 0.64\n",
      "\n",
      "n_neighbors = 4\n",
      "Accuracy on training set: 0.80\n",
      "Accuracy on test set: 0.69\n",
      "\n",
      "n_neighbors = 8\n",
      "Accuracy on training set: 0.78\n",
      "Accuracy on test set: 0.71\n",
      "\n",
      "n_neighbors = 12\n",
      "Accuracy on training set: 0.77\n",
      "Accuracy on test set: 0.73\n",
      "\n",
      "n_neighbors = 16\n",
      "Accuracy on training set: 0.77\n",
      "Accuracy on test set: 0.73\n",
      "\n"
     ]
    }
   ],
   "source": [
    "# checking different number of n_neighbors\n",
    "for n_neighbors in [1,2,4,8,12,16]:\n",
    "    \n",
    "        #Define the model\n",
    "        model = KNeighborsClassifier(n_neighbors=n_neighbors)\n",
    "        \n",
    "        #train the model\n",
    "        model.fit(X_train, y_train)\n",
    "\n",
    "        #print results\n",
    "        print(f'n_neighbors = {n_neighbors}')\n",
    "        print(f'Accuracy on training set: {model.score(X_train, y_train):.2f}')\n",
    "        print(f'Accuracy on test set: {model.score(X_test, y_test):.2f}\\n')"
   ]
  },
  {
   "cell_type": "markdown",
   "id": "b93d5154-0621-4989-bd79-b30c0e2cdc06",
   "metadata": {},
   "source": [
    "### 5.1 All hyper parameters\n",
    "\n",
    "all the following parameters can be hyper tunned in a Random Forest Classifier"
   ]
  },
  {
   "cell_type": "code",
   "execution_count": 17,
   "id": "99f52ecf-8200-4eef-80e3-c78222712ede",
   "metadata": {},
   "outputs": [],
   "source": [
    "# all parameters and their default values\n",
    "model_params = KNeighborsClassifier(n_neighbors=5,\n",
    "                                    weights='uniform',\n",
    "                                    algorithm='auto',\n",
    "                                    leaf_size=30,\n",
    "                                    p=2,\n",
    "                                    metric='minkowski',\n",
    "                                    metric_params=None,\n",
    "                                    n_jobs=None\n",
    "                                   )\n"
   ]
  }
 ],
 "metadata": {
  "kernelspec": {
   "display_name": "Python 3 (ipykernel)",
   "language": "python",
   "name": "python3"
  },
  "language_info": {
   "codemirror_mode": {
    "name": "ipython",
    "version": 3
   },
   "file_extension": ".py",
   "mimetype": "text/x-python",
   "name": "python",
   "nbconvert_exporter": "python",
   "pygments_lexer": "ipython3",
   "version": "3.10.13"
  }
 },
 "nbformat": 4,
 "nbformat_minor": 5
}
