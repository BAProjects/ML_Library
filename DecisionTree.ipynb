{
 "cells": [
  {
   "cell_type": "markdown",
   "id": "251f6644-8223-4cd6-b026-4d7da9bd48ef",
   "metadata": {},
   "source": [
    "### Decision Tree"
   ]
  },
  {
   "cell_type": "markdown",
   "id": "47c7f74a-56ba-4bef-a1a4-f3ba5b8f2525",
   "metadata": {},
   "source": [
    "Basic Example of Decision Tree implementation"
   ]
  },
  {
   "cell_type": "markdown",
   "id": "8e1b2ab4-2d56-40ee-a6a9-13fb816b0096",
   "metadata": {},
   "source": [
    "### About the data\n",
    "\n",
    "Imagine that you are a medical researcher compiling data for a study. You have collected data about a set of patients, all of whom suffered from the same illness. During their course of treatment, each patient responded to one of 5 medications, Drug A, Drug B, Drug c, Drug x and y.\r\n",
    "\r\n",
    "Part of your job is to build a model to find out which drug might be appropriate for a future patient with the same illness. The features of this dataset are Age, Sex, Blood Pressure, and the Cholesterol of the patients, and the target is the drug that each patient responded to.\r\n",
    "\r\n",
    "It is a sample of multiclass classifier, and you can use the training part of the dataset to build a decision tree, and then use it to predict the class of a unknown patient, or to prescribe a drug to a new patient.\r\n",
    "\r\n",
    "DATA Source: IBM"
   ]
  },
  {
   "cell_type": "markdown",
   "id": "67f5d83a-3268-4e8a-b26c-553800c994b5",
   "metadata": {},
   "source": [
    "### 1. Importing Libraries"
   ]
  },
  {
   "cell_type": "code",
   "execution_count": 1,
   "id": "81b5190b-0347-46ee-9883-7298ccba79f7",
   "metadata": {},
   "outputs": [],
   "source": [
    "# Data handling\n",
    "import pandas as pd\n",
    "\n",
    "# for model creation and evaluation\n",
    "from sklearn.tree import DecisionTreeClassifier\n",
    "from sklearn.model_selection import cross_val_score\n",
    "from sklearn.model_selection import train_test_split\n",
    "\n",
    "# for tree vizualisation\n",
    "from sklearn import tree\n",
    "import matplotlib.pyplot as plt\n",
    "\n",
    "# supress warnings\n",
    "import warnings\n",
    "warnings.simplefilter('ignore')"
   ]
  },
  {
   "cell_type": "markdown",
   "id": "a9ae8e60-f781-4b97-a56f-db1c564c603b",
   "metadata": {},
   "source": [
    "### 2. Data Load & Overview"
   ]
  },
  {
   "cell_type": "code",
   "execution_count": 2,
   "id": "9b09ee04-35ee-4208-ad78-9c46e5df5517",
   "metadata": {},
   "outputs": [],
   "source": [
    "# loading the dataset\n",
    "df = pd.read_csv('Data/drugdata.csv')"
   ]
  },
  {
   "cell_type": "code",
   "execution_count": 3,
   "id": "2636ae0d-12cc-478d-ac0f-49420d19a939",
   "metadata": {},
   "outputs": [
    {
     "data": {
      "text/plain": [
       "(200, 6)"
      ]
     },
     "execution_count": 3,
     "metadata": {},
     "output_type": "execute_result"
    }
   ],
   "source": [
    "# check the size of the dataset\n",
    "df.shape"
   ]
  },
  {
   "cell_type": "markdown",
   "id": "1be98cc7-e9c5-4783-a1ac-7728f1c24819",
   "metadata": {},
   "source": [
    "This dataset contains 200 rows and 6 columns"
   ]
  },
  {
   "cell_type": "code",
   "execution_count": 4,
   "id": "83813d41-b1b6-42bd-a53b-ddb0c80240cf",
   "metadata": {},
   "outputs": [
    {
     "data": {
      "text/html": [
       "<div>\n",
       "<style scoped>\n",
       "    .dataframe tbody tr th:only-of-type {\n",
       "        vertical-align: middle;\n",
       "    }\n",
       "\n",
       "    .dataframe tbody tr th {\n",
       "        vertical-align: top;\n",
       "    }\n",
       "\n",
       "    .dataframe thead th {\n",
       "        text-align: right;\n",
       "    }\n",
       "</style>\n",
       "<table border=\"1\" class=\"dataframe\">\n",
       "  <thead>\n",
       "    <tr style=\"text-align: right;\">\n",
       "      <th></th>\n",
       "      <th>Age</th>\n",
       "      <th>Sex</th>\n",
       "      <th>BP</th>\n",
       "      <th>Cholesterol</th>\n",
       "      <th>Na_to_K</th>\n",
       "      <th>Drug</th>\n",
       "    </tr>\n",
       "  </thead>\n",
       "  <tbody>\n",
       "    <tr>\n",
       "      <th>0</th>\n",
       "      <td>23</td>\n",
       "      <td>F</td>\n",
       "      <td>HIGH</td>\n",
       "      <td>HIGH</td>\n",
       "      <td>25.355</td>\n",
       "      <td>drugY</td>\n",
       "    </tr>\n",
       "    <tr>\n",
       "      <th>1</th>\n",
       "      <td>47</td>\n",
       "      <td>M</td>\n",
       "      <td>LOW</td>\n",
       "      <td>HIGH</td>\n",
       "      <td>13.093</td>\n",
       "      <td>drugC</td>\n",
       "    </tr>\n",
       "    <tr>\n",
       "      <th>2</th>\n",
       "      <td>47</td>\n",
       "      <td>M</td>\n",
       "      <td>LOW</td>\n",
       "      <td>HIGH</td>\n",
       "      <td>10.114</td>\n",
       "      <td>drugC</td>\n",
       "    </tr>\n",
       "    <tr>\n",
       "      <th>3</th>\n",
       "      <td>28</td>\n",
       "      <td>F</td>\n",
       "      <td>NORMAL</td>\n",
       "      <td>HIGH</td>\n",
       "      <td>7.798</td>\n",
       "      <td>drugX</td>\n",
       "    </tr>\n",
       "    <tr>\n",
       "      <th>4</th>\n",
       "      <td>61</td>\n",
       "      <td>F</td>\n",
       "      <td>LOW</td>\n",
       "      <td>HIGH</td>\n",
       "      <td>18.043</td>\n",
       "      <td>drugY</td>\n",
       "    </tr>\n",
       "  </tbody>\n",
       "</table>\n",
       "</div>"
      ],
      "text/plain": [
       "   Age Sex      BP Cholesterol  Na_to_K   Drug\n",
       "0   23   F    HIGH        HIGH   25.355  drugY\n",
       "1   47   M     LOW        HIGH   13.093  drugC\n",
       "2   47   M     LOW        HIGH   10.114  drugC\n",
       "3   28   F  NORMAL        HIGH    7.798  drugX\n",
       "4   61   F     LOW        HIGH   18.043  drugY"
      ]
     },
     "execution_count": 4,
     "metadata": {},
     "output_type": "execute_result"
    }
   ],
   "source": [
    "# looking at the first 10 rows of the data\n",
    "df.head()"
   ]
  },
  {
   "cell_type": "markdown",
   "id": "a94d878d-3f1d-4887-a67c-9b90e87363c2",
   "metadata": {},
   "source": [
    "This dataset contains medical records of patients\n",
    "\n",
    "* Age: age in years\n",
    "* Sex: (F=Female; M=Male)\n",
    "* BP: Blood Pressure (High,Normal,Low)\n",
    "* Cholesterol: (High,Normal,Low)\n",
    "* Na_to_K: Sodium - Potassium Ratio\n",
    "* Drug: type of Drug that help this patient\n",
    "\n",
    "The main goal will be to ***build a model that predicts what drug will help the patient*** based on the independent variables"
   ]
  },
  {
   "cell_type": "code",
   "execution_count": 5,
   "id": "1684f190-2053-4d62-88bf-e3f51bd0e3bb",
   "metadata": {},
   "outputs": [
    {
     "name": "stdout",
     "output_type": "stream",
     "text": [
      "<class 'pandas.core.frame.DataFrame'>\n",
      "RangeIndex: 200 entries, 0 to 199\n",
      "Data columns (total 6 columns):\n",
      " #   Column       Non-Null Count  Dtype  \n",
      "---  ------       --------------  -----  \n",
      " 0   Age          200 non-null    int64  \n",
      " 1   Sex          200 non-null    object \n",
      " 2   BP           200 non-null    object \n",
      " 3   Cholesterol  200 non-null    object \n",
      " 4   Na_to_K      200 non-null    float64\n",
      " 5   Drug         200 non-null    object \n",
      "dtypes: float64(1), int64(1), object(4)\n",
      "memory usage: 9.5+ KB\n"
     ]
    }
   ],
   "source": [
    "# check the datatypes of the variables\n",
    "df.info()"
   ]
  },
  {
   "cell_type": "markdown",
   "id": "caf1d249-e4a2-4605-8060-a0b5afccef1d",
   "metadata": {},
   "source": [
    "Observations:\n",
    "* Age and Na_to_K are already in the correct datatype\n",
    "* We will convert all others to categorical types\n",
    "* There are no null values in the dataset"
   ]
  },
  {
   "cell_type": "code",
   "execution_count": 6,
   "id": "dde36404-6e9b-4959-a95c-46c84cb76736",
   "metadata": {},
   "outputs": [],
   "source": [
    "# converting Objet types to category types\n",
    "df.Sex = df.Sex.astype('category')\n",
    "df.BP = df.BP.astype('category')\n",
    "df.Cholesterol = df.Cholesterol.astype('category')\n",
    "df.Drug = df.Drug.astype('category')"
   ]
  },
  {
   "cell_type": "code",
   "execution_count": 7,
   "id": "550ff545-6950-4f90-8012-00911cb25e92",
   "metadata": {},
   "outputs": [
    {
     "data": {
      "text/plain": [
       "Age               int64\n",
       "Sex            category\n",
       "BP             category\n",
       "Cholesterol    category\n",
       "Na_to_K         float64\n",
       "Drug           category\n",
       "dtype: object"
      ]
     },
     "execution_count": 7,
     "metadata": {},
     "output_type": "execute_result"
    }
   ],
   "source": [
    "df.dtypes"
   ]
  },
  {
   "cell_type": "markdown",
   "id": "be50d2e3-11ae-4f14-8dbc-92c0efc573b4",
   "metadata": {},
   "source": [
    "### 3. Data Processing\n",
    "\n",
    "* Split dependent and independent variables\n",
    "* Encode categorical colums"
   ]
  },
  {
   "cell_type": "code",
   "execution_count": 8,
   "id": "018a8f68-65c0-4e73-96cd-d077ccdf08a4",
   "metadata": {},
   "outputs": [],
   "source": [
    "# Independent variables\n",
    "X = df.drop('Drug',axis=1)\n",
    "\n",
    "# Dependent Variable (Target)\n",
    "y = df['Drug']"
   ]
  },
  {
   "cell_type": "code",
   "execution_count": 9,
   "id": "a9d2957d-de12-4240-8292-0efc896feb8f",
   "metadata": {},
   "outputs": [],
   "source": [
    "# defining a list of independent categorical variables\n",
    "cat_var = ['Sex','BP','Cholesterol']"
   ]
  },
  {
   "cell_type": "code",
   "execution_count": 10,
   "id": "3c5cd128-c5d8-4514-ae6a-eb5205de28bf",
   "metadata": {},
   "outputs": [],
   "source": [
    "# Encoding categorical variables\n",
    "for category in cat_var:\n",
    "    X[category] = X[category].cat.codes"
   ]
  },
  {
   "cell_type": "code",
   "execution_count": 11,
   "id": "6f16bf11-9291-4046-93c4-50b8fd6e6ad1",
   "metadata": {},
   "outputs": [
    {
     "data": {
      "text/html": [
       "<div>\n",
       "<style scoped>\n",
       "    .dataframe tbody tr th:only-of-type {\n",
       "        vertical-align: middle;\n",
       "    }\n",
       "\n",
       "    .dataframe tbody tr th {\n",
       "        vertical-align: top;\n",
       "    }\n",
       "\n",
       "    .dataframe thead th {\n",
       "        text-align: right;\n",
       "    }\n",
       "</style>\n",
       "<table border=\"1\" class=\"dataframe\">\n",
       "  <thead>\n",
       "    <tr style=\"text-align: right;\">\n",
       "      <th></th>\n",
       "      <th>Age</th>\n",
       "      <th>Sex</th>\n",
       "      <th>BP</th>\n",
       "      <th>Cholesterol</th>\n",
       "      <th>Na_to_K</th>\n",
       "    </tr>\n",
       "  </thead>\n",
       "  <tbody>\n",
       "    <tr>\n",
       "      <th>0</th>\n",
       "      <td>23</td>\n",
       "      <td>0</td>\n",
       "      <td>0</td>\n",
       "      <td>0</td>\n",
       "      <td>25.355</td>\n",
       "    </tr>\n",
       "    <tr>\n",
       "      <th>1</th>\n",
       "      <td>47</td>\n",
       "      <td>1</td>\n",
       "      <td>1</td>\n",
       "      <td>0</td>\n",
       "      <td>13.093</td>\n",
       "    </tr>\n",
       "    <tr>\n",
       "      <th>2</th>\n",
       "      <td>47</td>\n",
       "      <td>1</td>\n",
       "      <td>1</td>\n",
       "      <td>0</td>\n",
       "      <td>10.114</td>\n",
       "    </tr>\n",
       "    <tr>\n",
       "      <th>3</th>\n",
       "      <td>28</td>\n",
       "      <td>0</td>\n",
       "      <td>2</td>\n",
       "      <td>0</td>\n",
       "      <td>7.798</td>\n",
       "    </tr>\n",
       "    <tr>\n",
       "      <th>4</th>\n",
       "      <td>61</td>\n",
       "      <td>0</td>\n",
       "      <td>1</td>\n",
       "      <td>0</td>\n",
       "      <td>18.043</td>\n",
       "    </tr>\n",
       "  </tbody>\n",
       "</table>\n",
       "</div>"
      ],
      "text/plain": [
       "   Age  Sex  BP  Cholesterol  Na_to_K\n",
       "0   23    0   0            0   25.355\n",
       "1   47    1   1            0   13.093\n",
       "2   47    1   1            0   10.114\n",
       "3   28    0   2            0    7.798\n",
       "4   61    0   1            0   18.043"
      ]
     },
     "execution_count": 11,
     "metadata": {},
     "output_type": "execute_result"
    }
   ],
   "source": [
    "# looking at new encoded data\n",
    "X.head()"
   ]
  },
  {
   "cell_type": "markdown",
   "id": "70bfe927-4dc2-4efe-84b5-57ce68944299",
   "metadata": {},
   "source": [
    "### 4. Model\n",
    "\n",
    "* Build Model\n",
    "* Evaluate Model\n",
    "* Make predictions\n",
    "* visualize model\n",
    "\n",
    "This will be the steps to create the model"
   ]
  },
  {
   "cell_type": "markdown",
   "id": "26cdea24-ee4b-49cc-8333-dcc1d1f20150",
   "metadata": {},
   "source": [
    "### 4.1 Build model\n",
    "\n",
    "* Split variables into training and testing sets\n",
    "* Initialize the model\n",
    "* Train the model"
   ]
  },
  {
   "cell_type": "code",
   "execution_count": 78,
   "id": "e1508528-75fd-438d-8829-1367a5e9949c",
   "metadata": {},
   "outputs": [],
   "source": [
    "# spliting the data 7:3\n",
    "X_train, X_test, y_train,y_test = train_test_split(X,y, test_size=0.3, random_state=1)"
   ]
  },
  {
   "cell_type": "code",
   "execution_count": 79,
   "id": "520af0eb-b4ac-4bd0-a4ed-c3d1bc10aaa8",
   "metadata": {},
   "outputs": [],
   "source": [
    "# Defining model\n",
    "model = DecisionTreeClassifier(max_depth=4,\n",
    "                               random_state=12)\n",
    "\n",
    "# training model\n",
    "model.fit(X_train,y_train);"
   ]
  },
  {
   "cell_type": "markdown",
   "id": "1b8764da-59f6-4d45-960d-457fa6fedc2d",
   "metadata": {},
   "source": [
    "### 4.2 Evaluate Model\n",
    "\n",
    "* Checking Accuracy of model in both training and testing data"
   ]
  },
  {
   "cell_type": "code",
   "execution_count": 80,
   "id": "70f84eac-beca-4050-92b7-ef6ff3a361b2",
   "metadata": {},
   "outputs": [
    {
     "name": "stdout",
     "output_type": "stream",
     "text": [
      "Training Accuracy 1.00\n",
      "Testing Accuracy 0.97\n"
     ]
    }
   ],
   "source": [
    "# looking at model performance\n",
    "print(f'Training Accuracy {model.score(X_train,y_train):.2f}')\n",
    "print(f'Testing Accuracy {model.score(X_test,y_test):.2f}')"
   ]
  },
  {
   "cell_type": "markdown",
   "id": "fa5f7950-fb3c-484d-b237-3b741ea1dda4",
   "metadata": {},
   "source": [
    "### 4.3 Making a prediction\n",
    "\n",
    "* patient with:\n",
    "  - Age: 25 \n",
    "  - Sex: M (1)\n",
    "  - BP: High (0)\n",
    "  - Cholesterol: High (0)\n",
    "  - Na_to_K: 11.52"
   ]
  },
  {
   "cell_type": "code",
   "execution_count": 84,
   "id": "e55f1a3b-cd82-44c8-81c4-a7fe1eb4b4b6",
   "metadata": {},
   "outputs": [
    {
     "data": {
      "text/plain": [
       "'drugA'"
      ]
     },
     "execution_count": 84,
     "metadata": {},
     "output_type": "execute_result"
    }
   ],
   "source": [
    "# making a prediction\n",
    "pred = model.predict([[25,1,0,0,11.52]])\n",
    "pred[0]"
   ]
  },
  {
   "cell_type": "code",
   "execution_count": 85,
   "id": "12dc14d7-d60f-48bd-981c-9d6b14f919bd",
   "metadata": {},
   "outputs": [
    {
     "data": {
      "text/plain": [
       "{'drugA': 1.0, 'drugB': 0.0, 'drugC': 0.0, 'drugX': 0.0, 'drugY': 0.0}"
      ]
     },
     "execution_count": 85,
     "metadata": {},
     "output_type": "execute_result"
    }
   ],
   "source": [
    "# getting the problability of each class\n",
    "prob = model.predict_proba([[25,1,0,0,11.52]])\n",
    "\n",
    "# creating a dictionary with the probrabily of each class\n",
    "results = dict(map(lambda i,j : (i,j) , list(model.classes_),prob[0]))\n",
    "results"
   ]
  },
  {
   "cell_type": "markdown",
   "id": "d0edfa8e-ba9a-4af1-af89-b5880d561580",
   "metadata": {},
   "source": [
    "#### Prediction Results given the patient's values:\n",
    "* drugA is the drug that would work on this patient\n",
    "* Model calculated the highest probability that this drug would work on this patient among the available drugs"
   ]
  },
  {
   "cell_type": "markdown",
   "id": "c79b44e4-c912-42d7-8711-bc2f97ff7e1a",
   "metadata": {},
   "source": [
    "### 4.4 Visualizing model"
   ]
  },
  {
   "cell_type": "code",
   "execution_count": 86,
   "id": "3235a7ca-4904-4d1a-89b1-39d7bdd067b4",
   "metadata": {},
   "outputs": [
    {
     "name": "stdout",
     "output_type": "stream",
     "text": [
      "|--- feature_4 <= 14.84\n",
      "|   |--- feature_2 <= 0.50\n",
      "|   |   |--- feature_0 <= 53.00\n",
      "|   |   |   |--- class: drugA\n",
      "|   |   |--- feature_0 >  53.00\n",
      "|   |   |   |--- class: drugB\n",
      "|   |--- feature_2 >  0.50\n",
      "|   |   |--- feature_2 <= 1.50\n",
      "|   |   |   |--- feature_3 <= 0.50\n",
      "|   |   |   |   |--- class: drugC\n",
      "|   |   |   |--- feature_3 >  0.50\n",
      "|   |   |   |   |--- class: drugX\n",
      "|   |   |--- feature_2 >  1.50\n",
      "|   |   |   |--- class: drugX\n",
      "|--- feature_4 >  14.84\n",
      "|   |--- class: drugY\n",
      "\n"
     ]
    }
   ],
   "source": [
    "# looking at the logic of the model\n",
    "text_representation = tree.export_text(model)\n",
    "print(text_representation)\n"
   ]
  },
  {
   "cell_type": "code",
   "execution_count": 87,
   "id": "f0262468-e244-4869-927a-41adee1e7f89",
   "metadata": {},
   "outputs": [
    {
     "data": {
      "image/png": "[encoded data removed]",
      "text/plain": [
       "<Figure size 1000x700 with 1 Axes>"
      ]
     },
     "metadata": {},
     "output_type": "display_data"
    }
   ],
   "source": [
    "# Vizualising Tree\n",
    "fig = plt.figure(figsize=(10,7))\n",
    "_ = tree.plot_tree(model,\n",
    "                   max_depth=6,\n",
    "                   feature_names=X.columns.tolist(),  \n",
    "                   class_names=y.unique().tolist(),\n",
    "                   filled=True)"
   ]
  },
  {
   "cell_type": "markdown",
   "id": "99770aef-7521-40a7-9574-d97a783d3314",
   "metadata": {},
   "source": [
    "### 5. Hyper parameter tunning (max_depth)"
   ]
  },
  {
   "cell_type": "code",
   "execution_count": 88,
   "id": "afe59ccb-c936-47f6-86fe-e7a4e5be1798",
   "metadata": {},
   "outputs": [
    {
     "name": "stdout",
     "output_type": "stream",
     "text": [
      "max_depth = 1\n",
      "Accuracy on training set: 0.71\n",
      "Accuracy on test set: 0.77\n",
      "\n",
      "max_depth = 2\n",
      "Accuracy on training set: 0.84\n",
      "Accuracy on test set: 0.83\n",
      "\n",
      "max_depth = 3\n",
      "Accuracy on training set: 0.91\n",
      "Accuracy on test set: 0.90\n",
      "\n",
      "max_depth = 4\n",
      "Accuracy on training set: 1.00\n",
      "Accuracy on test set: 0.97\n",
      "\n",
      "max_depth = 5\n",
      "Accuracy on training set: 1.00\n",
      "Accuracy on test set: 0.97\n",
      "\n"
     ]
    }
   ],
   "source": [
    "# Hyper parameter tunning on max_depth\n",
    "for depth in [1, 2, 3, 4,5]:\n",
    "    \n",
    "    #initialize a model\n",
    "    model = DecisionTreeClassifier(max_depth = depth,\n",
    "                                 random_state = 123)\n",
    "    \n",
    "    #fit the model\n",
    "    model.fit(X_train, y_train)\n",
    "    \n",
    "    #print results\n",
    "    print(f'max_depth = {depth}')\n",
    "    print(f'Accuracy on training set: {model.score(X_train, y_train):.2f}')\n",
    "    print(f'Accuracy on test set: {model.score(X_test, y_test):.2f}\\n')"
   ]
  },
  {
   "cell_type": "markdown",
   "id": "d1f9997d-c05e-4508-a3e6-43b2127f8482",
   "metadata": {},
   "source": [
    "This is a way of increasing accuracy of a model, it is clear how the accuracy changes as the parameter value changes "
   ]
  },
  {
   "cell_type": "markdown",
   "id": "242cb97a-3796-4d9c-9384-a1008afff075",
   "metadata": {},
   "source": [
    "### 5.1 All hyper parameters\n",
    "\n",
    "all the following parameters can be hyper tunned in a Decision Tree Classifier"
   ]
  },
  {
   "cell_type": "code",
   "execution_count": 90,
   "id": "781b8d2e-bed1-46b9-8181-fa467424af9e",
   "metadata": {},
   "outputs": [],
   "source": [
    "# Decision tree classifier with all default parameters\n",
    "clf = DecisionTreeClassifier(criterion='gini', \n",
    "                             splitter='best', \n",
    "                             max_depth=None,\n",
    "                             min_samples_split=2, \n",
    "                             min_samples_leaf=1, \n",
    "                             min_weight_fraction_leaf=0.0, \n",
    "                             max_features=None, \n",
    "                             random_state=None, \n",
    "                             max_leaf_nodes=None, \n",
    "                             min_impurity_decrease=0.0, \n",
    "                             class_weight=None, \n",
    "                             ccp_alpha=0.0)"
   ]
  }
 ],
 "metadata": {
  "kernelspec": {
   "display_name": "Python 3 (ipykernel)",
   "language": "python",
   "name": "python3"
  },
  "language_info": {
   "codemirror_mode": {
    "name": "ipython",
    "version": 3
   },
   "file_extension": ".py",
   "mimetype": "text/x-python",
   "name": "python",
   "nbconvert_exporter": "python",
   "pygments_lexer": "ipython3",
   "version": "3.10.13"
  }
 },
 "nbformat": 4,
 "nbformat_minor": 5
}
