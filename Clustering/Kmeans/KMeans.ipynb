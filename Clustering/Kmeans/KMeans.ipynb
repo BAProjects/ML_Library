{
 "cells": [
  {
   "cell_type": "markdown",
   "id": "c466aebe-fbe6-4d59-a37e-38bb55fd2d1a",
   "metadata": {},
   "source": [
    "## K Means Clustering\n",
    "\n",
    "Basic example of K Means Clustering implementation"
   ]
  },
  {
   "cell_type": "markdown",
   "id": "a0e07490-6d1c-4ac0-9c0c-97e2b7e24b45",
   "metadata": {},
   "source": [
    "### About the Data\n",
    "\n",
    "The healthcare_CyberAttacks dataset is an aggregated table that contains number of attacks and total affected people by state and it was derived from the Breach Report Dataset that contains information about resolved cyber attack cases reported to HIPPA from 10/2009 to 01/2023\n",
    "\n",
    "Variables:\n",
    "\n",
    "* State\n",
    "* Individuals Affected\n",
    "* attacks"
   ]
  },
  {
   "cell_type": "markdown",
   "id": "f3efe695-6104-4964-9007-1f5a2e5e0509",
   "metadata": {},
   "source": [
    "## 1. Importing Libraries"
   ]
  },
  {
   "cell_type": "code",
   "execution_count": 1,
   "id": "d387490d-a68d-4675-b8d9-c0efa000a7a6",
   "metadata": {},
   "outputs": [],
   "source": [
    "# data handling and formating\n",
    "import pandas as pd\n",
    "import numpy as np\n",
    "\n",
    "# vizualisation\n",
    "import matplotlib.pyplot as plt\n",
    "import seaborn as sns\n",
    "\n",
    "# importing KMeans method\n",
    "from sklearn.cluster import KMeans\n",
    "\n",
    "# scaling data\n",
    "from sklearn.preprocessing import MinMaxScaler\n",
    "\n",
    "# to compute distances\n",
    "from scipy.spatial.distance import cdist\n",
    "\n",
    "# supressing warnings\n",
    "import warnings\n",
    "warnings.simplefilter('ignore')"
   ]
  },
  {
   "cell_type": "markdown",
   "id": "a36e3982-98de-4c98-98cb-ae8e3eca57c6",
   "metadata": {},
   "source": [
    "## 2. Data Load & Overview"
   ]
  },
  {
   "cell_type": "code",
   "execution_count": 2,
   "id": "1dd79382-71d6-41ba-adb9-ede62c2f97f2",
   "metadata": {},
   "outputs": [],
   "source": [
    "# importing data\n",
    "data = pd.read_csv('../Data/healthcare_CyberAttacks.csv')"
   ]
  },
  {
   "cell_type": "code",
   "execution_count": 3,
   "id": "1b8ccfff-59fd-4d21-81a2-4a4a3d453c81",
   "metadata": {},
   "outputs": [],
   "source": [
    "# creating a copy to avoid permanent changes\n",
    "df = data.copy()"
   ]
  },
  {
   "cell_type": "code",
   "execution_count": 4,
   "id": "acaef988-97ff-482b-93b2-7d389ba7713d",
   "metadata": {},
   "outputs": [
    {
     "name": "stdout",
     "output_type": "stream",
     "text": [
      " *There are 52 observations\n",
      " *There are 3 variables including a dependant variable\n"
     ]
    }
   ],
   "source": [
    "# looking at the size of the dataset\n",
    "print(f' *There are {df.shape[0]} observations')\n",
    "print(f' *There are {df.shape[1]} variables including a dependant variable')"
   ]
  },
  {
   "cell_type": "code",
   "execution_count": 5,
   "id": "62edb1be-d155-4c63-9642-3832d27e9b7a",
   "metadata": {},
   "outputs": [
    {
     "data": {
      "text/html": [
       "<div>\n",
       "<style scoped>\n",
       "    .dataframe tbody tr th:only-of-type {\n",
       "        vertical-align: middle;\n",
       "    }\n",
       "\n",
       "    .dataframe tbody tr th {\n",
       "        vertical-align: top;\n",
       "    }\n",
       "\n",
       "    .dataframe thead th {\n",
       "        text-align: right;\n",
       "    }\n",
       "</style>\n",
       "<table border=\"1\" class=\"dataframe\">\n",
       "  <thead>\n",
       "    <tr style=\"text-align: right;\">\n",
       "      <th></th>\n",
       "      <th>State</th>\n",
       "      <th>Individuals Affected</th>\n",
       "      <th>attacks</th>\n",
       "    </tr>\n",
       "  </thead>\n",
       "  <tbody>\n",
       "    <tr>\n",
       "      <th>0</th>\n",
       "      <td>AK</td>\n",
       "      <td>500000.0</td>\n",
       "      <td>19</td>\n",
       "    </tr>\n",
       "    <tr>\n",
       "      <th>1</th>\n",
       "      <td>AL</td>\n",
       "      <td>8702.0</td>\n",
       "      <td>51</td>\n",
       "    </tr>\n",
       "    <tr>\n",
       "      <th>2</th>\n",
       "      <td>AR</td>\n",
       "      <td>8871.0</td>\n",
       "      <td>60</td>\n",
       "    </tr>\n",
       "    <tr>\n",
       "      <th>3</th>\n",
       "      <td>AZ</td>\n",
       "      <td>1337.0</td>\n",
       "      <td>100</td>\n",
       "    </tr>\n",
       "    <tr>\n",
       "      <th>4</th>\n",
       "      <td>CA</td>\n",
       "      <td>2646.0</td>\n",
       "      <td>461</td>\n",
       "    </tr>\n",
       "  </tbody>\n",
       "</table>\n",
       "</div>"
      ],
      "text/plain": [
       "  State  Individuals Affected  attacks\n",
       "0    AK              500000.0       19\n",
       "1    AL                8702.0       51\n",
       "2    AR                8871.0       60\n",
       "3    AZ                1337.0      100\n",
       "4    CA                2646.0      461"
      ]
     },
     "execution_count": 5,
     "metadata": {},
     "output_type": "execute_result"
    }
   ],
   "source": [
    "# looking at the data\n",
    "df.head()"
   ]
  },
  {
   "cell_type": "markdown",
   "id": "a89cb36f-f7ec-44d3-b3dd-7ce16d0c5146",
   "metadata": {},
   "source": [
    "* data contains total number of affected individuals by state and total number of attacks by state\n",
    "* data is from 10/2009 to 01/2023"
   ]
  },
  {
   "cell_type": "code",
   "execution_count": 6,
   "id": "01cbede7-11fa-4324-9e0b-b145805c7d56",
   "metadata": {},
   "outputs": [
    {
     "data": {
      "text/plain": [
       "State                   0\n",
       "Individuals Affected    0\n",
       "attacks                 0\n",
       "dtype: int64"
      ]
     },
     "execution_count": 6,
     "metadata": {},
     "output_type": "execute_result"
    }
   ],
   "source": [
    "# looking for missing values\n",
    "df.isnull().sum()"
   ]
  },
  {
   "cell_type": "markdown",
   "id": "afcdfaa7-790d-4d6d-8ea5-55d134f75950",
   "metadata": {},
   "source": [
    "* There are no missing values"
   ]
  },
  {
   "cell_type": "code",
   "execution_count": 7,
   "id": "27792f4e-b99d-4d50-9bac-64c52f65c9f4",
   "metadata": {},
   "outputs": [
    {
     "data": {
      "text/plain": [
       "State                    object\n",
       "Individuals Affected    float64\n",
       "attacks                   int64\n",
       "dtype: object"
      ]
     },
     "execution_count": 7,
     "metadata": {},
     "output_type": "execute_result"
    }
   ],
   "source": [
    "df.dtypes"
   ]
  },
  {
   "cell_type": "markdown",
   "id": "502caca7-26ec-4048-ad3c-46f79b6a2583",
   "metadata": {},
   "source": [
    "## 3. Data Preprocessing\n",
    "\n",
    "* K Means can not handle categorical/object types therefore we will only use Individuals `Affected` and `attacks`\n",
    "* K Means means deals with distances therefore we will have to scale our data for better results"
   ]
  },
  {
   "cell_type": "code",
   "execution_count": 8,
   "id": "d0f0ac73-f274-4bb1-a57e-827704c448fa",
   "metadata": {},
   "outputs": [],
   "source": [
    "# we will create a dataframe with the numerical variables only\n",
    "training = df[['Individuals Affected', 'attacks']]"
   ]
  },
  {
   "cell_type": "code",
   "execution_count": 9,
   "id": "5675c5ab-af11-4802-b71f-10d48cabd0b3",
   "metadata": {},
   "outputs": [],
   "source": [
    "# defining scaler\n",
    "scaler = MinMaxScaler()\n",
    "# creating new dataset with scaled values\n",
    "df_scaled = pd.DataFrame(scaler.fit_transform(training), columns=training.columns)"
   ]
  },
  {
   "cell_type": "markdown",
   "id": "6ca235f4-ab88-442d-a1fa-74c2c2b13f29",
   "metadata": {},
   "source": [
    "## 4. Model"
   ]
  },
  {
   "cell_type": "markdown",
   "id": "b95cd8b7-f638-4a36-ba63-5c2c78bdf3d9",
   "metadata": {},
   "source": [
    "* Select the best number of clusters (k)\n",
    "* Build model\n",
    "* visualize clusters\n",
    "* Analyze clusters"
   ]
  },
  {
   "cell_type": "markdown",
   "id": "3a7fc8fc-4526-4443-92e2-11a444d36bd3",
   "metadata": {},
   "source": [
    "## 4.1 Selecting best number of clusters (k)\n",
    "\n",
    "we will use an elbow plot to do this step"
   ]
  },
  {
   "cell_type": "code",
   "execution_count": 10,
   "id": "c8a96f97-71b2-4cd8-88ae-169c9319d2f4",
   "metadata": {},
   "outputs": [
    {
     "data": {
      "text/plain": [
       "Text(0.5, 1.0, 'Selecting k with the Elbow Method')"
      ]
     },
     "execution_count": 10,
     "metadata": {},
     "output_type": "execute_result"
    },
    {
     "data": {
      "image/png": "[encoded data removed]",
      "text/plain": [
       "<Figure size 640x480 with 1 Axes>"
      ]
     },
     "metadata": {},
     "output_type": "display_data"
    }
   ],
   "source": [
    "# number of clusters to test\n",
    "clusters = range(1, 15)\n",
    "\n",
    "# empty list to store mean dissortion\n",
    "meanDistortions = []\n",
    "\n",
    "# looping through different number of clusters\n",
    "for k in clusters:\n",
    "    model = KMeans(n_clusters=k)\n",
    "    model.fit(df_scaled)\n",
    "    prediction = model.predict(df_scaled)\n",
    "    distortion = (\n",
    "        sum(\n",
    "            np.min(cdist(df_scaled, model.cluster_centers_, \"euclidean\"), axis=1)\n",
    "        )\n",
    "        / df_scaled.shape[0]\n",
    "    )\n",
    "\n",
    "    meanDistortions.append(distortion)\n",
    "\n",
    "# creating elbow plot\n",
    "plt.plot(clusters, meanDistortions, \"bx-\")\n",
    "plt.xlabel(\"k\")\n",
    "plt.ylabel(\"Average Distortion\")\n",
    "plt.title(\"Selecting k with the Elbow Method\", fontsize=20)"
   ]
  },
  {
   "cell_type": "markdown",
   "id": "87885480-b2ba-42ad-9c2c-fbd53de7a2e3",
   "metadata": {},
   "source": [
    "* From the elbow test it seems like k = 4 is the best option judging from the diminishing returns"
   ]
  },
  {
   "cell_type": "markdown",
   "id": "cf8643be-6184-44e1-b3e9-26b19c2da3c1",
   "metadata": {},
   "source": [
    "## 4.2 Building Model\n",
    "\n",
    "Building model and creating clusters"
   ]
  },
  {
   "cell_type": "code",
   "execution_count": 11,
   "id": "09a836f7-d7f3-4559-a65a-5676a469338f",
   "metadata": {},
   "outputs": [],
   "source": [
    "# Apply K-means clustering with k=4 \n",
    "kmeans = KMeans(n_clusters=4, random_state=123)\n",
    "\n",
    "# creating clusters\n",
    "clusters = kmeans.fit_predict(df_scaled)\n",
    "\n",
    "# Add the cluster labels to the dataframe\n",
    "df_scaled['cluster'] = clusters"
   ]
  },
  {
   "cell_type": "markdown",
   "id": "2a63f537-be63-4880-8839-1b062b22d30f",
   "metadata": {},
   "source": [
    "## 4.3 Visualize Clusters"
   ]
  },
  {
   "cell_type": "code",
   "execution_count": 12,
   "id": "b9d33b1d-dab1-4b37-8026-a1b0a88cc8ae",
   "metadata": {},
   "outputs": [
    {
     "data": {
      "text/plain": [
       "[Text(0.5, 1.0, 'K-Means Clustering')]"
      ]
     },
     "execution_count": 12,
     "metadata": {},
     "output_type": "execute_result"
    },
    {
     "data": {
      "image/png": "[encoded data removed]",
      "text/plain": [
       "<Figure size 640x480 with 1 Axes>"
      ]
     },
     "metadata": {},
     "output_type": "display_data"
    }
   ],
   "source": [
    "sns.scatterplot(data=df_scaled, x=\"Individuals Affected\", y=\"attacks\", hue=df_scaled['cluster'], palette='Spectral').set(title='K-Means Clustering')"
   ]
  },
  {
   "cell_type": "markdown",
   "id": "041b10d2-487b-430b-b7e5-57a1baa6df4d",
   "metadata": {},
   "source": [
    "* `Cluster 0`: contains the states that are frequently targeted but also have really low affected individuals\n",
    "    - Highly targeted, High Security\n",
    "* `Cluster 3`: contains the states that are not targeted too often and have relatively low affected individuals\n",
    "    - Somewhat targeted, Medium security\n",
    "* `Cluster 1`: contains the states that are rarely targeted and have low number of affected individuals\n",
    "    - Rarely targeted, Can't really says much about their security\n",
    "* `Cluster 2`: contains the states that are not highly targeted but have the highest numbers of affected individuals\n",
    "    - Rarely targeted, Low Security"
   ]
  },
  {
   "cell_type": "markdown",
   "id": "d8534ffc-4ae7-43fd-ab38-e604f5539c78",
   "metadata": {},
   "source": [
    "## 4.4 Analyze Clusters"
   ]
  },
  {
   "cell_type": "code",
   "execution_count": 13,
   "id": "99234c45-ce60-4a97-91f5-e05aa041e573",
   "metadata": {},
   "outputs": [],
   "source": [
    "# adding clusters to original data\n",
    "df['cluster'] = df_scaled['cluster']"
   ]
  },
  {
   "cell_type": "code",
   "execution_count": 14,
   "id": "665aa6a7-6247-47a9-b819-fa214a121248",
   "metadata": {},
   "outputs": [
    {
     "name": "stdout",
     "output_type": "stream",
     "text": [
      "\n",
      "Cluster 2 Details:\n",
      " \n",
      "States in this cluster: ['AK', 'CT', 'GA', 'IA', 'SC', 'WV']\n",
      "\n"
     ]
    },
    {
     "data": {
      "text/html": [
       "<div>\n",
       "<style scoped>\n",
       "    .dataframe tbody tr th:only-of-type {\n",
       "        vertical-align: middle;\n",
       "    }\n",
       "\n",
       "    .dataframe tbody tr th {\n",
       "        vertical-align: top;\n",
       "    }\n",
       "\n",
       "    .dataframe thead th {\n",
       "        text-align: right;\n",
       "    }\n",
       "</style>\n",
       "<table border=\"1\" class=\"dataframe\">\n",
       "  <thead>\n",
       "    <tr style=\"text-align: right;\">\n",
       "      <th></th>\n",
       "      <th>count</th>\n",
       "      <th>mean</th>\n",
       "      <th>std</th>\n",
       "      <th>min</th>\n",
       "      <th>25%</th>\n",
       "      <th>50%</th>\n",
       "      <th>75%</th>\n",
       "      <th>max</th>\n",
       "    </tr>\n",
       "  </thead>\n",
       "  <tbody>\n",
       "    <tr>\n",
       "      <th>Individuals Affected</th>\n",
       "      <td>6.0</td>\n",
       "      <td>343438.666667</td>\n",
       "      <td>139835.383748</td>\n",
       "      <td>194035.0</td>\n",
       "      <td>250180.00</td>\n",
       "      <td>295724.0</td>\n",
       "      <td>456319.5</td>\n",
       "      <td>530299.0</td>\n",
       "    </tr>\n",
       "    <tr>\n",
       "      <th>attacks</th>\n",
       "      <td>6.0</td>\n",
       "      <td>62.000000</td>\n",
       "      <td>41.602885</td>\n",
       "      <td>19.0</td>\n",
       "      <td>32.25</td>\n",
       "      <td>55.5</td>\n",
       "      <td>78.0</td>\n",
       "      <td>132.0</td>\n",
       "    </tr>\n",
       "  </tbody>\n",
       "</table>\n",
       "</div>"
      ],
      "text/plain": [
       "                      count           mean            std       min  \\\n",
       "Individuals Affected    6.0  343438.666667  139835.383748  194035.0   \n",
       "attacks                 6.0      62.000000      41.602885      19.0   \n",
       "\n",
       "                            25%       50%       75%       max  \n",
       "Individuals Affected  250180.00  295724.0  456319.5  530299.0  \n",
       "attacks                   32.25      55.5      78.0     132.0  "
      ]
     },
     "metadata": {},
     "output_type": "display_data"
    },
    {
     "name": "stdout",
     "output_type": "stream",
     "text": [
      "======================================================================================================================================================\n",
      "\n",
      "Cluster 1 Details:\n",
      " \n",
      "States in this cluster: ['AL', 'AR', 'DC', 'DE', 'HI', 'ID', 'KS', 'LA', 'ME', 'MS', 'MT', 'ND', 'NE', 'NH', 'NM', 'NV', 'OK', 'OR', 'PR', 'RI', 'SD', 'UT', 'VT', 'WI', 'WY']\n",
      "\n"
     ]
    },
    {
     "data": {
      "text/html": [
       "<div>\n",
       "<style scoped>\n",
       "    .dataframe tbody tr th:only-of-type {\n",
       "        vertical-align: middle;\n",
       "    }\n",
       "\n",
       "    .dataframe tbody tr th {\n",
       "        vertical-align: top;\n",
       "    }\n",
       "\n",
       "    .dataframe thead th {\n",
       "        text-align: right;\n",
       "    }\n",
       "</style>\n",
       "<table border=\"1\" class=\"dataframe\">\n",
       "  <thead>\n",
       "    <tr style=\"text-align: right;\">\n",
       "      <th></th>\n",
       "      <th>count</th>\n",
       "      <th>mean</th>\n",
       "      <th>std</th>\n",
       "      <th>min</th>\n",
       "      <th>25%</th>\n",
       "      <th>50%</th>\n",
       "      <th>75%</th>\n",
       "      <th>max</th>\n",
       "    </tr>\n",
       "  </thead>\n",
       "  <tbody>\n",
       "    <tr>\n",
       "      <th>Individuals Affected</th>\n",
       "      <td>25.0</td>\n",
       "      <td>12742.08</td>\n",
       "      <td>22081.190647</td>\n",
       "      <td>520.0</td>\n",
       "      <td>1432.0</td>\n",
       "      <td>5535.0</td>\n",
       "      <td>10467.0</td>\n",
       "      <td>101541.0</td>\n",
       "    </tr>\n",
       "    <tr>\n",
       "      <th>attacks</th>\n",
       "      <td>25.0</td>\n",
       "      <td>29.76</td>\n",
       "      <td>17.863557</td>\n",
       "      <td>9.0</td>\n",
       "      <td>14.0</td>\n",
       "      <td>28.0</td>\n",
       "      <td>39.0</td>\n",
       "      <td>69.0</td>\n",
       "    </tr>\n",
       "  </tbody>\n",
       "</table>\n",
       "</div>"
      ],
      "text/plain": [
       "                      count      mean           std    min     25%     50%  \\\n",
       "Individuals Affected   25.0  12742.08  22081.190647  520.0  1432.0  5535.0   \n",
       "attacks                25.0     29.76     17.863557    9.0    14.0    28.0   \n",
       "\n",
       "                          75%       max  \n",
       "Individuals Affected  10467.0  101541.0  \n",
       "attacks                  39.0      69.0  "
      ]
     },
     "metadata": {},
     "output_type": "display_data"
    },
    {
     "name": "stdout",
     "output_type": "stream",
     "text": [
      "======================================================================================================================================================\n",
      "\n",
      "Cluster 3 Details:\n",
      " \n",
      "States in this cluster: ['AZ', 'CO', 'IL', 'IN', 'KY', 'MA', 'MD', 'MI', 'MN', 'MO', 'NC', 'NJ', 'OH', 'PA', 'TN', 'VA', 'WA']\n",
      "\n"
     ]
    },
    {
     "data": {
      "text/html": [
       "<div>\n",
       "<style scoped>\n",
       "    .dataframe tbody tr th:only-of-type {\n",
       "        vertical-align: middle;\n",
       "    }\n",
       "\n",
       "    .dataframe tbody tr th {\n",
       "        vertical-align: top;\n",
       "    }\n",
       "\n",
       "    .dataframe thead th {\n",
       "        text-align: right;\n",
       "    }\n",
       "</style>\n",
       "<table border=\"1\" class=\"dataframe\">\n",
       "  <thead>\n",
       "    <tr style=\"text-align: right;\">\n",
       "      <th></th>\n",
       "      <th>count</th>\n",
       "      <th>mean</th>\n",
       "      <th>std</th>\n",
       "      <th>min</th>\n",
       "      <th>25%</th>\n",
       "      <th>50%</th>\n",
       "      <th>75%</th>\n",
       "      <th>max</th>\n",
       "    </tr>\n",
       "  </thead>\n",
       "  <tbody>\n",
       "    <tr>\n",
       "      <th>Individuals Affected</th>\n",
       "      <td>17.0</td>\n",
       "      <td>22006.352941</td>\n",
       "      <td>31582.317929</td>\n",
       "      <td>500.0</td>\n",
       "      <td>1100.0</td>\n",
       "      <td>7250.0</td>\n",
       "      <td>20533.0</td>\n",
       "      <td>106910.0</td>\n",
       "    </tr>\n",
       "    <tr>\n",
       "      <th>attacks</th>\n",
       "      <td>17.0</td>\n",
       "      <td>113.823529</td>\n",
       "      <td>32.947373</td>\n",
       "      <td>79.0</td>\n",
       "      <td>97.0</td>\n",
       "      <td>104.0</td>\n",
       "      <td>119.0</td>\n",
       "      <td>192.0</td>\n",
       "    </tr>\n",
       "  </tbody>\n",
       "</table>\n",
       "</div>"
      ],
      "text/plain": [
       "                      count          mean           std    min     25%  \\\n",
       "Individuals Affected   17.0  22006.352941  31582.317929  500.0  1100.0   \n",
       "attacks                17.0    113.823529     32.947373   79.0    97.0   \n",
       "\n",
       "                         50%      75%       max  \n",
       "Individuals Affected  7250.0  20533.0  106910.0  \n",
       "attacks                104.0    119.0     192.0  "
      ]
     },
     "metadata": {},
     "output_type": "display_data"
    },
    {
     "name": "stdout",
     "output_type": "stream",
     "text": [
      "======================================================================================================================================================\n",
      "\n",
      "Cluster 0 Details:\n",
      " \n",
      "States in this cluster: ['CA', 'FL', 'NY', 'TX']\n",
      "\n"
     ]
    },
    {
     "data": {
      "text/html": [
       "<div>\n",
       "<style scoped>\n",
       "    .dataframe tbody tr th:only-of-type {\n",
       "        vertical-align: middle;\n",
       "    }\n",
       "\n",
       "    .dataframe tbody tr th {\n",
       "        vertical-align: top;\n",
       "    }\n",
       "\n",
       "    .dataframe thead th {\n",
       "        text-align: right;\n",
       "    }\n",
       "</style>\n",
       "<table border=\"1\" class=\"dataframe\">\n",
       "  <thead>\n",
       "    <tr style=\"text-align: right;\">\n",
       "      <th></th>\n",
       "      <th>count</th>\n",
       "      <th>mean</th>\n",
       "      <th>std</th>\n",
       "      <th>min</th>\n",
       "      <th>25%</th>\n",
       "      <th>50%</th>\n",
       "      <th>75%</th>\n",
       "      <th>max</th>\n",
       "    </tr>\n",
       "  </thead>\n",
       "  <tbody>\n",
       "    <tr>\n",
       "      <th>Individuals Affected</th>\n",
       "      <td>4.0</td>\n",
       "      <td>3453.00</td>\n",
       "      <td>3758.740303</td>\n",
       "      <td>941.0</td>\n",
       "      <td>1169.0</td>\n",
       "      <td>1945.5</td>\n",
       "      <td>4229.50</td>\n",
       "      <td>8980.0</td>\n",
       "    </tr>\n",
       "    <tr>\n",
       "      <th>attacks</th>\n",
       "      <td>4.0</td>\n",
       "      <td>345.25</td>\n",
       "      <td>87.183236</td>\n",
       "      <td>276.0</td>\n",
       "      <td>279.0</td>\n",
       "      <td>322.0</td>\n",
       "      <td>388.25</td>\n",
       "      <td>461.0</td>\n",
       "    </tr>\n",
       "  </tbody>\n",
       "</table>\n",
       "</div>"
      ],
      "text/plain": [
       "                      count     mean          std    min     25%     50%  \\\n",
       "Individuals Affected    4.0  3453.00  3758.740303  941.0  1169.0  1945.5   \n",
       "attacks                 4.0   345.25    87.183236  276.0   279.0   322.0   \n",
       "\n",
       "                          75%     max  \n",
       "Individuals Affected  4229.50  8980.0  \n",
       "attacks                388.25   461.0  "
      ]
     },
     "metadata": {},
     "output_type": "display_data"
    },
    {
     "name": "stdout",
     "output_type": "stream",
     "text": [
      "======================================================================================================================================================\n"
     ]
    }
   ],
   "source": [
    "# looping through clusters and returning its state members and summary statistics\n",
    "for cluster in df['cluster'].unique():\n",
    "    print('''\\nCluster {} Details:\\n '''.format(cluster))\n",
    "    cluster_data = df[df['cluster']==cluster]\n",
    "    print(f'States in this cluster: {list(cluster_data.State)}\\n')\n",
    "    display(cluster_data[['Individuals Affected','attacks']].describe().T)\n",
    "    print('='*150)"
   ]
  }
 ],
 "metadata": {
  "kernelspec": {
   "display_name": "Python 3 (ipykernel)",
   "language": "python",
   "name": "python3"
  },
  "language_info": {
   "codemirror_mode": {
    "name": "ipython",
    "version": 3
   },
   "file_extension": ".py",
   "mimetype": "text/x-python",
   "name": "python",
   "nbconvert_exporter": "python",
   "pygments_lexer": "ipython3",
   "version": "3.10.13"
  }
 },
 "nbformat": 4,
 "nbformat_minor": 5
}
