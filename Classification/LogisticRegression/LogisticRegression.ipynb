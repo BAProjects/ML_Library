{
 "cells": [
  {
   "cell_type": "markdown",
   "id": "84b5424c-b8a1-4f9e-b448-c4288a8a004d",
   "metadata": {},
   "source": [
    "### Logistic Regression\n",
    "\n",
    "Basic Example of Logistic Regression implementation"
   ]
  },
  {
   "cell_type": "markdown",
   "id": "4936ed04-5bfc-46d9-86f1-c5fb871efcd9",
   "metadata": {},
   "source": [
    "## About the Data\n",
    "\n",
    "In this Jupyter notebook, we will explore a dataset containing various features extracted from URLs. Each feature is associated with a label indicating the nature of the URL:\n",
    "\n",
    "    Legitimate: 1,\n",
    "    Suspicious: 0,\n",
    "    Phishing: -1\n",
    "    \n",
    "Our goal is to develop a machine Learing Classifier model trained on this dataset to predict whether a given URL corresponds to a malicious website. Through this analysis, we aim to build a robust model capable of identifying potentially malicious URLs and enhancing cybersecurity measures.\n",
    "\n",
    "\n",
    "Dataset Features:\n",
    "\n",
    "    having_IP_Address\n",
    "    URL_Length\n",
    "    Shortining_Service\n",
    "    having_At_Symbol\n",
    "    double_slash_redirecting\n",
    "    Prefix_Suffix\n",
    "    having_Sub_Domain\n",
    "    SSLfinal_State\n",
    "    Domain_registeration_length\n",
    "    Favicon\n",
    "    port\n",
    "    HTTPS_token\n",
    "    Request_URL\n",
    "    URL_of_Anchor\n",
    "    Links_in_tags\n",
    "    SFH\n",
    "    Submitting_to_email\n",
    "    Abnormal_URL\n",
    "    Redirect\n",
    "    on_mouseover\n",
    "    RightClick\n",
    "    popUpWidnow\n",
    "    Iframe\n",
    "    age_of_domain\n",
    "    DNSRecord\n",
    "    web_traffic\n",
    "    Page_Rank\n",
    "    Google_Index\n",
    "    Links_pointing_to_page\n",
    "    Statistical_report\n",
    "    Result"
   ]
  },
  {
   "cell_type": "markdown",
   "id": "b05a16df-ecb2-474f-bfcc-44e302de6c1f",
   "metadata": {},
   "source": [
    "## 1. Importing Libraries"
   ]
  },
  {
   "cell_type": "code",
   "execution_count": 1,
   "id": "f07eff55-9ba0-49d9-a08c-483c29406db0",
   "metadata": {},
   "outputs": [],
   "source": [
    "# Data handling\n",
    "import pandas as pd\n",
    "\n",
    "# for model creation and evaluation\n",
    "from sklearn.linear_model import LogisticRegression\n",
    "from sklearn.model_selection import train_test_split\n",
    "# performance metrics\n",
    "from sklearn.metrics import precision_score, recall_score, accuracy_score, f1_score, confusion_matrix, ConfusionMatrixDisplay\n",
    "\n",
    "# for tree vizualisation\n",
    "from sklearn import tree\n",
    "import matplotlib.pyplot as plt\n",
    "import seaborn as sns\n",
    "\n",
    "# supress warnings\n",
    "import warnings\n",
    "warnings.simplefilter('ignore')"
   ]
  },
  {
   "cell_type": "markdown",
   "id": "88816ccf-a188-417e-9323-3fc90380d72d",
   "metadata": {},
   "source": [
    "## 2. Data Load & Overview"
   ]
  },
  {
   "cell_type": "code",
   "execution_count": 2,
   "id": "888455fe-d315-48d4-b071-894d37f88dc4",
   "metadata": {},
   "outputs": [],
   "source": [
    "# importing data\n",
    "data = pd.read_csv('../Data/PhishingWebsites.csv')"
   ]
  },
  {
   "cell_type": "code",
   "execution_count": 3,
   "id": "08613d2d-70a2-41f1-b0aa-2ee2d5412b45",
   "metadata": {},
   "outputs": [],
   "source": [
    "# creating a copy of the dataset to avoid permanent changes\n",
    "df = data.copy()"
   ]
  },
  {
   "cell_type": "code",
   "execution_count": 4,
   "id": "091a53f3-ab42-482e-a223-94faccf38288",
   "metadata": {},
   "outputs": [
    {
     "name": "stdout",
     "output_type": "stream",
     "text": [
      " *There are 11055 observations\n",
      " *There are 31 variables including a dependant variable\n"
     ]
    }
   ],
   "source": [
    "# looking at the size of the dataset\n",
    "print(f' *There are {df.shape[0]} observations')\n",
    "print(f' *There are {df.shape[1]} variables including a dependant variable')"
   ]
  },
  {
   "cell_type": "code",
   "execution_count": 5,
   "id": "ee9a55e3-0bf1-4f99-b9de-3cd1d896a12e",
   "metadata": {},
   "outputs": [
    {
     "data": {
      "text/html": [
       "<div>\n",
       "<style scoped>\n",
       "    .dataframe tbody tr th:only-of-type {\n",
       "        vertical-align: middle;\n",
       "    }\n",
       "\n",
       "    .dataframe tbody tr th {\n",
       "        vertical-align: top;\n",
       "    }\n",
       "\n",
       "    .dataframe thead th {\n",
       "        text-align: right;\n",
       "    }\n",
       "</style>\n",
       "<table border=\"1\" class=\"dataframe\">\n",
       "  <thead>\n",
       "    <tr style=\"text-align: right;\">\n",
       "      <th></th>\n",
       "      <th>having_IP_Address</th>\n",
       "      <th>URL_Length</th>\n",
       "      <th>Shortining_Service</th>\n",
       "      <th>having_At_Symbol</th>\n",
       "      <th>double_slash_redirecting</th>\n",
       "      <th>Prefix_Suffix</th>\n",
       "      <th>having_Sub_Domain</th>\n",
       "      <th>SSLfinal_State</th>\n",
       "      <th>Domain_registeration_length</th>\n",
       "      <th>Favicon</th>\n",
       "      <th>...</th>\n",
       "      <th>popUpWidnow</th>\n",
       "      <th>Iframe</th>\n",
       "      <th>age_of_domain</th>\n",
       "      <th>DNSRecord</th>\n",
       "      <th>web_traffic</th>\n",
       "      <th>Page_Rank</th>\n",
       "      <th>Google_Index</th>\n",
       "      <th>Links_pointing_to_page</th>\n",
       "      <th>Statistical_report</th>\n",
       "      <th>Result</th>\n",
       "    </tr>\n",
       "  </thead>\n",
       "  <tbody>\n",
       "    <tr>\n",
       "      <th>0</th>\n",
       "      <td>-1</td>\n",
       "      <td>1</td>\n",
       "      <td>1</td>\n",
       "      <td>1</td>\n",
       "      <td>-1</td>\n",
       "      <td>-1</td>\n",
       "      <td>-1</td>\n",
       "      <td>-1</td>\n",
       "      <td>-1</td>\n",
       "      <td>1</td>\n",
       "      <td>...</td>\n",
       "      <td>1</td>\n",
       "      <td>1</td>\n",
       "      <td>-1</td>\n",
       "      <td>-1</td>\n",
       "      <td>-1</td>\n",
       "      <td>-1</td>\n",
       "      <td>1</td>\n",
       "      <td>1</td>\n",
       "      <td>-1</td>\n",
       "      <td>-1</td>\n",
       "    </tr>\n",
       "    <tr>\n",
       "      <th>1</th>\n",
       "      <td>1</td>\n",
       "      <td>1</td>\n",
       "      <td>1</td>\n",
       "      <td>1</td>\n",
       "      <td>1</td>\n",
       "      <td>-1</td>\n",
       "      <td>0</td>\n",
       "      <td>1</td>\n",
       "      <td>-1</td>\n",
       "      <td>1</td>\n",
       "      <td>...</td>\n",
       "      <td>1</td>\n",
       "      <td>1</td>\n",
       "      <td>-1</td>\n",
       "      <td>-1</td>\n",
       "      <td>0</td>\n",
       "      <td>-1</td>\n",
       "      <td>1</td>\n",
       "      <td>1</td>\n",
       "      <td>1</td>\n",
       "      <td>-1</td>\n",
       "    </tr>\n",
       "    <tr>\n",
       "      <th>2</th>\n",
       "      <td>1</td>\n",
       "      <td>0</td>\n",
       "      <td>1</td>\n",
       "      <td>1</td>\n",
       "      <td>1</td>\n",
       "      <td>-1</td>\n",
       "      <td>-1</td>\n",
       "      <td>-1</td>\n",
       "      <td>-1</td>\n",
       "      <td>1</td>\n",
       "      <td>...</td>\n",
       "      <td>1</td>\n",
       "      <td>1</td>\n",
       "      <td>1</td>\n",
       "      <td>-1</td>\n",
       "      <td>1</td>\n",
       "      <td>-1</td>\n",
       "      <td>1</td>\n",
       "      <td>0</td>\n",
       "      <td>-1</td>\n",
       "      <td>-1</td>\n",
       "    </tr>\n",
       "    <tr>\n",
       "      <th>3</th>\n",
       "      <td>1</td>\n",
       "      <td>0</td>\n",
       "      <td>1</td>\n",
       "      <td>1</td>\n",
       "      <td>1</td>\n",
       "      <td>-1</td>\n",
       "      <td>-1</td>\n",
       "      <td>-1</td>\n",
       "      <td>1</td>\n",
       "      <td>1</td>\n",
       "      <td>...</td>\n",
       "      <td>1</td>\n",
       "      <td>1</td>\n",
       "      <td>-1</td>\n",
       "      <td>-1</td>\n",
       "      <td>1</td>\n",
       "      <td>-1</td>\n",
       "      <td>1</td>\n",
       "      <td>-1</td>\n",
       "      <td>1</td>\n",
       "      <td>-1</td>\n",
       "    </tr>\n",
       "    <tr>\n",
       "      <th>4</th>\n",
       "      <td>1</td>\n",
       "      <td>0</td>\n",
       "      <td>-1</td>\n",
       "      <td>1</td>\n",
       "      <td>1</td>\n",
       "      <td>-1</td>\n",
       "      <td>1</td>\n",
       "      <td>1</td>\n",
       "      <td>-1</td>\n",
       "      <td>1</td>\n",
       "      <td>...</td>\n",
       "      <td>-1</td>\n",
       "      <td>1</td>\n",
       "      <td>-1</td>\n",
       "      <td>-1</td>\n",
       "      <td>0</td>\n",
       "      <td>-1</td>\n",
       "      <td>1</td>\n",
       "      <td>1</td>\n",
       "      <td>1</td>\n",
       "      <td>1</td>\n",
       "    </tr>\n",
       "  </tbody>\n",
       "</table>\n",
       "<p>5 rows × 31 columns</p>\n",
       "</div>"
      ],
      "text/plain": [
       "   having_IP_Address  URL_Length  Shortining_Service  having_At_Symbol  \\\n",
       "0                 -1           1                   1                 1   \n",
       "1                  1           1                   1                 1   \n",
       "2                  1           0                   1                 1   \n",
       "3                  1           0                   1                 1   \n",
       "4                  1           0                  -1                 1   \n",
       "\n",
       "   double_slash_redirecting  Prefix_Suffix  having_Sub_Domain  SSLfinal_State  \\\n",
       "0                        -1             -1                 -1              -1   \n",
       "1                         1             -1                  0               1   \n",
       "2                         1             -1                 -1              -1   \n",
       "3                         1             -1                 -1              -1   \n",
       "4                         1             -1                  1               1   \n",
       "\n",
       "   Domain_registeration_length  Favicon  ...  popUpWidnow  Iframe  \\\n",
       "0                           -1        1  ...            1       1   \n",
       "1                           -1        1  ...            1       1   \n",
       "2                           -1        1  ...            1       1   \n",
       "3                            1        1  ...            1       1   \n",
       "4                           -1        1  ...           -1       1   \n",
       "\n",
       "   age_of_domain  DNSRecord  web_traffic  Page_Rank  Google_Index  \\\n",
       "0             -1         -1           -1         -1             1   \n",
       "1             -1         -1            0         -1             1   \n",
       "2              1         -1            1         -1             1   \n",
       "3             -1         -1            1         -1             1   \n",
       "4             -1         -1            0         -1             1   \n",
       "\n",
       "   Links_pointing_to_page  Statistical_report  Result  \n",
       "0                       1                  -1      -1  \n",
       "1                       1                   1      -1  \n",
       "2                       0                  -1      -1  \n",
       "3                      -1                   1      -1  \n",
       "4                       1                   1       1  \n",
       "\n",
       "[5 rows x 31 columns]"
      ]
     },
     "execution_count": 5,
     "metadata": {},
     "output_type": "execute_result"
    }
   ],
   "source": [
    "# looking at the data\n",
    "df.head()"
   ]
  },
  {
   "cell_type": "markdown",
   "id": "f3feaba5-eb06-4851-9d6e-288346da88a7",
   "metadata": {},
   "source": [
    "* All data is nominal\n",
    "* feature values include:\n",
    "    - 1: legitimate\n",
    "    - 0: Suspicious\n",
    "    - -1: Phishing"
   ]
  },
  {
   "cell_type": "code",
   "execution_count": 6,
   "id": "befb0988-84ef-4821-985c-5193ac9dc91b",
   "metadata": {},
   "outputs": [
    {
     "data": {
      "text/plain": [
       "Result\n",
       " 1    6157\n",
       "-1    4898\n",
       "Name: count, dtype: int64"
      ]
     },
     "execution_count": 6,
     "metadata": {},
     "output_type": "execute_result"
    }
   ],
   "source": [
    "# looking at the distribution of dependent variable\n",
    "df['Result'].value_counts()"
   ]
  },
  {
   "cell_type": "markdown",
   "id": "952da8f7-5465-4cf5-8741-e3f63bcef577",
   "metadata": {},
   "source": [
    "* Data is balanced\n",
    "* Phishing websites make up for ~44% of the data"
   ]
  },
  {
   "cell_type": "markdown",
   "id": "de11e545-cc59-4114-a2b5-ed228923cc70",
   "metadata": {},
   "source": [
    "## 3. Data Preprocessing\n",
    "\n",
    "The dataset is already very clean, therefore this step will not be necessary for this model"
   ]
  },
  {
   "cell_type": "markdown",
   "id": "795948e4-3161-472a-9b4b-dc706babbb3a",
   "metadata": {},
   "source": [
    "### 4. Model\n",
    "\n",
    "* Build Model\n",
    "* Evaluate Model\n",
    "* Make predictions\n",
    "* visualize model"
   ]
  },
  {
   "cell_type": "code",
   "execution_count": 7,
   "id": "060db0cb-d56c-47d4-8d20-47a33b08d591",
   "metadata": {},
   "outputs": [],
   "source": [
    "# splitting data\n",
    "X = df.drop('Result', axis=1) # independant variables\n",
    "y = df['Result']                # dependant variable\n",
    "\n",
    "# Splitting data 7:3 into train and test data \n",
    "X_train, X_test, y_train, y_test = train_test_split(X, y, test_size = 0.3, random_state = 1)"
   ]
  },
  {
   "cell_type": "code",
   "execution_count": 8,
   "id": "f370b778-31ee-4957-9046-e7a76d79acc9",
   "metadata": {},
   "outputs": [],
   "source": [
    "# Defining Random Forest model\n",
    "model = LogisticRegression()\n",
    "\n",
    "# Training model\n",
    "model.fit(X_train, y_train);\n"
   ]
  },
  {
   "cell_type": "markdown",
   "id": "83cf9954-ff92-42ff-b280-7b5d86ad0d87",
   "metadata": {},
   "source": [
    "### 4.2 Evaluate Model\n",
    "\n",
    "* Checking Accuracy of model in both training and testing data"
   ]
  },
  {
   "cell_type": "code",
   "execution_count": 9,
   "id": "be931611-ed4a-47da-a59a-fd1683c7e750",
   "metadata": {},
   "outputs": [],
   "source": [
    "# function for looking at the performance of a classification model\n",
    "def model_performance(model, predictors, target):\n",
    "    \"\"\"\n",
    "    Function to compute different metrics to check classification model performance\n",
    "\n",
    "    model: classifier\n",
    "    predictors: independent variables\n",
    "    target: dependent variable\n",
    "    \"\"\"\n",
    "\n",
    "    # predicting using the independent variables\n",
    "    pred = model.predict(predictors)\n",
    "\n",
    "    acc = accuracy_score(target, pred)  # to compute Accuracy\n",
    "    recall = recall_score(target, pred)  # to compute Recall\n",
    "    precision = precision_score(target, pred)  # to compute Precision\n",
    "    f1 = f1_score(target, pred)  # to compute F1-score\n",
    "\n",
    "    # creating a dataframe of metrics\n",
    "    df_perf = pd.DataFrame(\n",
    "        {\n",
    "            \"Accuracy\": acc,\n",
    "            \"Recall\": recall,\n",
    "            \"Precision\": precision,\n",
    "            \"F1\": f1\n",
    "            \n",
    "        },\n",
    "        index=[0],\n",
    "    )\n",
    "\n",
    "    return df_perf"
   ]
  },
  {
   "cell_type": "code",
   "execution_count": 10,
   "id": "4d6b3418-c747-4c00-913d-233233317e6d",
   "metadata": {},
   "outputs": [
    {
     "data": {
      "text/html": [
       "<div>\n",
       "<style scoped>\n",
       "    .dataframe tbody tr th:only-of-type {\n",
       "        vertical-align: middle;\n",
       "    }\n",
       "\n",
       "    .dataframe tbody tr th {\n",
       "        vertical-align: top;\n",
       "    }\n",
       "\n",
       "    .dataframe thead th {\n",
       "        text-align: right;\n",
       "    }\n",
       "</style>\n",
       "<table border=\"1\" class=\"dataframe\">\n",
       "  <thead>\n",
       "    <tr style=\"text-align: right;\">\n",
       "      <th></th>\n",
       "      <th>Accuracy</th>\n",
       "      <th>Recall</th>\n",
       "      <th>Precision</th>\n",
       "      <th>F1</th>\n",
       "    </tr>\n",
       "  </thead>\n",
       "  <tbody>\n",
       "    <tr>\n",
       "      <th>0</th>\n",
       "      <td>0.928405</td>\n",
       "      <td>0.945958</td>\n",
       "      <td>0.927536</td>\n",
       "      <td>0.936657</td>\n",
       "    </tr>\n",
       "  </tbody>\n",
       "</table>\n",
       "</div>"
      ],
      "text/plain": [
       "   Accuracy    Recall  Precision        F1\n",
       "0  0.928405  0.945958   0.927536  0.936657"
      ]
     },
     "metadata": {},
     "output_type": "display_data"
    },
    {
     "data": {
      "text/html": [
       "<div>\n",
       "<style scoped>\n",
       "    .dataframe tbody tr th:only-of-type {\n",
       "        vertical-align: middle;\n",
       "    }\n",
       "\n",
       "    .dataframe tbody tr th {\n",
       "        vertical-align: top;\n",
       "    }\n",
       "\n",
       "    .dataframe thead th {\n",
       "        text-align: right;\n",
       "    }\n",
       "</style>\n",
       "<table border=\"1\" class=\"dataframe\">\n",
       "  <thead>\n",
       "    <tr style=\"text-align: right;\">\n",
       "      <th></th>\n",
       "      <th>Accuracy</th>\n",
       "      <th>Recall</th>\n",
       "      <th>Precision</th>\n",
       "      <th>F1</th>\n",
       "    </tr>\n",
       "  </thead>\n",
       "  <tbody>\n",
       "    <tr>\n",
       "      <th>0</th>\n",
       "      <td>0.925837</td>\n",
       "      <td>0.945265</td>\n",
       "      <td>0.92205</td>\n",
       "      <td>0.933514</td>\n",
       "    </tr>\n",
       "  </tbody>\n",
       "</table>\n",
       "</div>"
      ],
      "text/plain": [
       "   Accuracy    Recall  Precision        F1\n",
       "0  0.925837  0.945265    0.92205  0.933514"
      ]
     },
     "metadata": {},
     "output_type": "display_data"
    }
   ],
   "source": [
    "# looking at performance metrics for training and testing data\n",
    "display(model_performance(model,X_train,y_train))\n",
    "display(model_performance(model,X_test,y_test))"
   ]
  },
  {
   "cell_type": "markdown",
   "id": "e847bdf2-1d69-4adf-8f19-44c742db7493",
   "metadata": {},
   "source": [
    "Model returned high accuracy in both training and testing data, indicating there is no overfitting"
   ]
  },
  {
   "cell_type": "markdown",
   "id": "702b0d45-62e6-4a07-8c80-2f20eeb677a4",
   "metadata": {},
   "source": [
    "## 4.3 Making a prediction"
   ]
  },
  {
   "cell_type": "code",
   "execution_count": 11,
   "id": "ee4b32c8-981b-4590-99cb-ad3f47115e03",
   "metadata": {},
   "outputs": [
    {
     "name": "stdout",
     "output_type": "stream",
     "text": [
      "Based on the entered values, the model predicts this is a Legitimate website\n"
     ]
    }
   ],
   "source": [
    "# creating feature values for prediction\n",
    "new_website_features = [[1,1,0,1,-1,1,1,0,1,1,\n",
    "                         1,0,1,1,1,1,0,-1,0,0,\n",
    "                         1,0,0,1,1,1,1,1,1,1]]\n",
    "\n",
    "# making a prediction on the created feature values\n",
    "pred = model.predict(new_website_features)\n",
    "\n",
    "dict = {1:'Legitimate',0:'Suspicious',-1:'Phishing'}\n",
    "print(f'Based on the entered values, the model predicts this is a {dict[pred[0]]} website')"
   ]
  },
  {
   "cell_type": "markdown",
   "id": "ec07a091-4b42-41eb-a44d-ae8e7cf386ca",
   "metadata": {},
   "source": [
    "## 4.3.1 Describing performance of model predictions"
   ]
  },
  {
   "cell_type": "code",
   "execution_count": 12,
   "id": "5dc5b234-5476-4c17-a44a-da84d9846df1",
   "metadata": {},
   "outputs": [],
   "source": [
    "# Function to display model confusion_matrix\n",
    "def c_matrix(y_test,y_pred):\n",
    "    cm_display = ConfusionMatrixDisplay(confusion_matrix = confusion_matrix(y_test, y_pred), display_labels=['Malicious', 'Legitimate'] )\n",
    "    cm_display.plot()\n",
    "    plt.show()"
   ]
  },
  {
   "cell_type": "code",
   "execution_count": 13,
   "id": "cc7d8fc6-e052-4fcc-bc31-5b4927717a06",
   "metadata": {},
   "outputs": [
    {
     "data": {
      "image/png": "[encoded data removed]",
      "text/plain": [
       "<Figure size 640x480 with 2 Axes>"
      ]
     },
     "metadata": {},
     "output_type": "display_data"
    }
   ],
   "source": [
    "# getting predictions for the testing data\n",
    "predictions = model.predict(X_test)\n",
    "\n",
    "# creating confusion matrix\n",
    "c_matrix(y_test,predictions)"
   ]
  },
  {
   "cell_type": "markdown",
   "id": "8d79dd45-573d-43f8-b107-d06ea28111a6",
   "metadata": {},
   "source": [
    "Observations:\n",
    "\n",
    "* 1344 True Positives: correctly predicted as positive (malicious)\n",
    "* 1727 True Negatives: correctly predicted as negative (legitimate)\n",
    "* 146 False Negativs: incorrectly predicted as negative\n",
    "* 100 False Positives: incorrectly predicted as positive"
   ]
  },
  {
   "cell_type": "markdown",
   "id": "44ae8446-4d0d-42fb-a7e9-e23c06354d07",
   "metadata": {},
   "source": [
    "## 5. Hyper Parameter Tuning"
   ]
  },
  {
   "cell_type": "code",
   "execution_count": 14,
   "id": "b0ea5ee8-1f85-40ae-9537-922be8ebf857",
   "metadata": {},
   "outputs": [
    {
     "name": "stdout",
     "output_type": "stream",
     "text": [
      "C = 0.1\n",
      "Accuracy on training set: 0.93\n",
      "Accuracy on test set: 0.93\n",
      "\n",
      "C = 1\n",
      "Accuracy on training set: 0.93\n",
      "Accuracy on test set: 0.93\n",
      "\n",
      "C = 10\n",
      "Accuracy on training set: 0.93\n",
      "Accuracy on test set: 0.93\n",
      "\n",
      "C = 100\n",
      "Accuracy on training set: 0.93\n",
      "Accuracy on test set: 0.93\n",
      "\n"
     ]
    }
   ],
   "source": [
    "# Hyper parameter tunning on C\n",
    "for C in [0.1,1,10,100]:\n",
    "    \n",
    "    #initialize and train model\n",
    "    model =LogisticRegression(C=C,\n",
    "                            random_state = 123)\n",
    "    model.fit(X_train, y_train)\n",
    "    \n",
    "    # showing scores\n",
    "    print(f'C = {C}')\n",
    "    print(f'Accuracy on training set: {model.score(X_train, y_train):.2f}')\n",
    "    print(f'Accuracy on test set: {model.score(X_test, y_test):.2f}\\n')"
   ]
  },
  {
   "cell_type": "markdown",
   "id": "c1f8a648-319d-4a9b-97dc-a56032335924",
   "metadata": {},
   "source": [
    "### 5.1 All hyper parameters\n",
    "\n",
    "all the following parameters can be hyper tunned in a Random Forest Classifier"
   ]
  },
  {
   "cell_type": "code",
   "execution_count": 15,
   "id": "6f9b3a03-3695-497a-b9cf-c28715d04338",
   "metadata": {},
   "outputs": [],
   "source": [
    "# These are all the parameters and their default values for LogisticRegression\n",
    "model_params = LogisticRegression(penalty='l2', \n",
    "                         dual=False, \n",
    "                         tol=0.0001, \n",
    "                         C=1.0,          \n",
    "                         fit_intercept=True, \n",
    "                         intercept_scaling=1, \n",
    "                         class_weight=None, \n",
    "                         random_state=None, \n",
    "                         solver='lbfgs', \n",
    "                         max_iter=100, \n",
    "                         multi_class='auto', \n",
    "                         verbose=0, \n",
    "                         warm_start=False, \n",
    "                         n_jobs=None, \n",
    "                         l1_ratio=None\n",
    "                        )"
   ]
  }
 ],
 "metadata": {
  "kernelspec": {
   "display_name": "Python 3 (ipykernel)",
   "language": "python",
   "name": "python3"
  },
  "language_info": {
   "codemirror_mode": {
    "name": "ipython",
    "version": 3
   },
   "file_extension": ".py",
   "mimetype": "text/x-python",
   "name": "python",
   "nbconvert_exporter": "python",
   "pygments_lexer": "ipython3",
   "version": "3.10.13"
  }
 },
 "nbformat": 4,
 "nbformat_minor": 5
}
