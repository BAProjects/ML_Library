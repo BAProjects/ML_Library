{
 "cells": [
  {
   "cell_type": "markdown",
   "id": "ab72d0f6-424f-462e-98e9-79e8e3f748ed",
   "metadata": {},
   "source": [
    "## Lasso Regression\n",
    "\n",
    "Basic Example of Lasso Regression Implementation\n",
    "Lasso: (Least Absolute Shrinkage and Selection Operator) is a regression analysis method that performs both variable selection and regularization in order to enhance the prediction accuracy and interpretability of the resulting linear model."
   ]
  },
  {
   "cell_type": "markdown",
   "id": "89a0fafc-a7dd-4960-9d26-c97ad1837691",
   "metadata": {},
   "source": [
    "## About the data\n",
    "\n",
    "\n",
    "The dataset has 9 variables, including the name of the car and its various attributes like horsepower, weight, region of origin, etc. Missing values in the data are marked by a series of question marks.\r\n",
    "\r\n",
    "A detailed description of the variables is given below.\r\n",
    "\r\n",
    "1. mpg: miles per gallon\r\n",
    "2. cylinders: number of cylinders\r\n",
    "3. displacement: engine displacement in cubic inches\r\n",
    "4. horsepower: horsepower of the car\r\n",
    "5. weight: weight of the car in pounds\r\n",
    "6. acceleration: time taken, in seconds, to accelerate from O to 60 mph\r\n",
    "7. model year: year of manufacture of the car (modulo 100)\r\n",
    "8. origin: region of origin of the car (1 - American, 2 - European, 3 - Asian)\r\n",
    "9. car name: name of the car\n"
   ]
  },
  {
   "cell_type": "markdown",
   "id": "a646faab-edcc-4bd4-8c09-e05ca5b36db3",
   "metadata": {},
   "source": [
    "## 1. Importing Libraries"
   ]
  },
  {
   "cell_type": "code",
   "execution_count": 1,
   "id": "4dd913f3-230d-46eb-b7e1-efff74919c58",
   "metadata": {},
   "outputs": [],
   "source": [
    "# for reading and manipulating data\n",
    "import pandas as pd\n",
    "import numpy as np\n",
    "\n",
    "# for data visualization\n",
    "import matplotlib.pyplot as plt\n",
    "import seaborn as sns\n",
    "sns.set()\n",
    "\n",
    "# spliting data\n",
    "from sklearn.model_selection import train_test_split\n",
    "\n",
    "# for model building\n",
    "from sklearn.linear_model import Lasso\n",
    "\n",
    "# for supressing warnings\n",
    "import warnings\n",
    "warnings.simplefilter('ignore')"
   ]
  },
  {
   "cell_type": "markdown",
   "id": "55ab8247-db7e-4a22-bd51-ae8869b614e1",
   "metadata": {},
   "source": [
    "## 2. Data Load & Overview"
   ]
  },
  {
   "cell_type": "code",
   "execution_count": 2,
   "id": "1d473963-55aa-4c32-8b2d-38ca62bdc3ed",
   "metadata": {},
   "outputs": [],
   "source": [
    "data = pd.read_csv('../Data/auto_mpg.csv')"
   ]
  },
  {
   "cell_type": "code",
   "execution_count": 3,
   "id": "85a33042-a9c3-4d79-b353-4431ed6479a1",
   "metadata": {},
   "outputs": [],
   "source": [
    "df = data.copy()"
   ]
  },
  {
   "cell_type": "code",
   "execution_count": 4,
   "id": "29bbd823-398e-4997-8e5c-f5362d43fc32",
   "metadata": {},
   "outputs": [
    {
     "name": "stdout",
     "output_type": "stream",
     "text": [
      "This data set has 398 rows\n",
      "There are 9 variables\n"
     ]
    }
   ],
   "source": [
    "# checking the size of the dataframe\n",
    "print(f'This data set has {df.shape[0]} rows')\n",
    "print(f'There are {df.shape[1]} variables')"
   ]
  },
  {
   "cell_type": "code",
   "execution_count": 5,
   "id": "71dd3df9-e07c-41ae-a14e-a7e68fca60d4",
   "metadata": {},
   "outputs": [
    {
     "data": {
      "text/html": [
       "<div>\n",
       "<style scoped>\n",
       "    .dataframe tbody tr th:only-of-type {\n",
       "        vertical-align: middle;\n",
       "    }\n",
       "\n",
       "    .dataframe tbody tr th {\n",
       "        vertical-align: top;\n",
       "    }\n",
       "\n",
       "    .dataframe thead th {\n",
       "        text-align: right;\n",
       "    }\n",
       "</style>\n",
       "<table border=\"1\" class=\"dataframe\">\n",
       "  <thead>\n",
       "    <tr style=\"text-align: right;\">\n",
       "      <th></th>\n",
       "      <th>mpg</th>\n",
       "      <th>cylinders</th>\n",
       "      <th>displacement</th>\n",
       "      <th>horsepower</th>\n",
       "      <th>weight</th>\n",
       "      <th>acceleration</th>\n",
       "      <th>model year</th>\n",
       "      <th>origin</th>\n",
       "      <th>car name</th>\n",
       "    </tr>\n",
       "  </thead>\n",
       "  <tbody>\n",
       "    <tr>\n",
       "      <th>0</th>\n",
       "      <td>18.0</td>\n",
       "      <td>8</td>\n",
       "      <td>307.0</td>\n",
       "      <td>130</td>\n",
       "      <td>3504</td>\n",
       "      <td>12.0</td>\n",
       "      <td>70</td>\n",
       "      <td>1</td>\n",
       "      <td>chevrolet chevelle malibu</td>\n",
       "    </tr>\n",
       "    <tr>\n",
       "      <th>1</th>\n",
       "      <td>15.0</td>\n",
       "      <td>8</td>\n",
       "      <td>350.0</td>\n",
       "      <td>165</td>\n",
       "      <td>3693</td>\n",
       "      <td>11.5</td>\n",
       "      <td>70</td>\n",
       "      <td>1</td>\n",
       "      <td>buick skylark 320</td>\n",
       "    </tr>\n",
       "    <tr>\n",
       "      <th>2</th>\n",
       "      <td>18.0</td>\n",
       "      <td>8</td>\n",
       "      <td>318.0</td>\n",
       "      <td>150</td>\n",
       "      <td>3436</td>\n",
       "      <td>11.0</td>\n",
       "      <td>70</td>\n",
       "      <td>1</td>\n",
       "      <td>plymouth satellite</td>\n",
       "    </tr>\n",
       "    <tr>\n",
       "      <th>3</th>\n",
       "      <td>16.0</td>\n",
       "      <td>8</td>\n",
       "      <td>304.0</td>\n",
       "      <td>150</td>\n",
       "      <td>3433</td>\n",
       "      <td>12.0</td>\n",
       "      <td>70</td>\n",
       "      <td>1</td>\n",
       "      <td>amc rebel sst</td>\n",
       "    </tr>\n",
       "    <tr>\n",
       "      <th>4</th>\n",
       "      <td>17.0</td>\n",
       "      <td>8</td>\n",
       "      <td>302.0</td>\n",
       "      <td>140</td>\n",
       "      <td>3449</td>\n",
       "      <td>10.5</td>\n",
       "      <td>70</td>\n",
       "      <td>1</td>\n",
       "      <td>ford torino</td>\n",
       "    </tr>\n",
       "  </tbody>\n",
       "</table>\n",
       "</div>"
      ],
      "text/plain": [
       "    mpg  cylinders  displacement horsepower  weight  acceleration  model year  \\\n",
       "0  18.0          8         307.0        130    3504          12.0          70   \n",
       "1  15.0          8         350.0        165    3693          11.5          70   \n",
       "2  18.0          8         318.0        150    3436          11.0          70   \n",
       "3  16.0          8         304.0        150    3433          12.0          70   \n",
       "4  17.0          8         302.0        140    3449          10.5          70   \n",
       "\n",
       "   origin                   car name  \n",
       "0       1  chevrolet chevelle malibu  \n",
       "1       1          buick skylark 320  \n",
       "2       1         plymouth satellite  \n",
       "3       1              amc rebel sst  \n",
       "4       1                ford torino  "
      ]
     },
     "execution_count": 5,
     "metadata": {},
     "output_type": "execute_result"
    }
   ],
   "source": [
    "# looking at first 5 rows of the dataset\n",
    "df.head()"
   ]
  },
  {
   "cell_type": "markdown",
   "id": "4f8b82ec-9b44-4d5d-a44e-339c607bbbae",
   "metadata": {},
   "source": [
    "This dataset contains features of different cars\n",
    "\n",
    "The main goal is to create a model that will predict the miles per gallon (mpg) of a car based on the other features"
   ]
  },
  {
   "cell_type": "code",
   "execution_count": 6,
   "id": "df095189-1f66-4af6-8173-1824dbe67fbe",
   "metadata": {},
   "outputs": [
    {
     "name": "stdout",
     "output_type": "stream",
     "text": [
      "<class 'pandas.core.frame.DataFrame'>\n",
      "RangeIndex: 398 entries, 0 to 397\n",
      "Data columns (total 9 columns):\n",
      " #   Column        Non-Null Count  Dtype  \n",
      "---  ------        --------------  -----  \n",
      " 0   mpg           398 non-null    float64\n",
      " 1   cylinders     398 non-null    int64  \n",
      " 2   displacement  398 non-null    float64\n",
      " 3   horsepower    398 non-null    object \n",
      " 4   weight        398 non-null    int64  \n",
      " 5   acceleration  398 non-null    float64\n",
      " 6   model year    398 non-null    int64  \n",
      " 7   origin        398 non-null    int64  \n",
      " 8   car name      398 non-null    object \n",
      "dtypes: float64(3), int64(4), object(2)\n",
      "memory usage: 28.1+ KB\n"
     ]
    }
   ],
   "source": [
    "# checking data information\n",
    "df.info()"
   ]
  },
  {
   "cell_type": "markdown",
   "id": "002e55bf-65a4-4185-b73e-5d2d8a6c812a",
   "metadata": {},
   "source": [
    "* Most of the columns in the data are numeric in nature ('int64' or 'float64' type).\r\n",
    "* The horsepower and car name columns are string columns ('object' type)\n",
    "* From the data above we know that horsepower should be numeric."
   ]
  },
  {
   "cell_type": "markdown",
   "id": "e37ebf27-156d-4d0b-8d01-654e5e7e882b",
   "metadata": {},
   "source": [
    "For Prediction purposes I will be dropping the 'car name' column"
   ]
  },
  {
   "cell_type": "code",
   "execution_count": 7,
   "id": "06f0410c-1ed8-44be-ae5a-0421b54512a9",
   "metadata": {},
   "outputs": [],
   "source": [
    "# dropping 'car name' column\n",
    "df.drop('car name',axis=1, inplace=True)"
   ]
  },
  {
   "cell_type": "code",
   "execution_count": 8,
   "id": "3637d462-2550-4071-927b-2d60dc4bbf74",
   "metadata": {
    "scrolled": true
   },
   "outputs": [
    {
     "data": {
      "text/plain": [
       "mpg             0\n",
       "cylinders       0\n",
       "displacement    0\n",
       "horsepower      0\n",
       "weight          0\n",
       "acceleration    0\n",
       "model year      0\n",
       "origin          0\n",
       "dtype: int64"
      ]
     },
     "execution_count": 8,
     "metadata": {},
     "output_type": "execute_result"
    }
   ],
   "source": [
    "# Checking for missing values\n",
    "df.isnull().sum()"
   ]
  },
  {
   "cell_type": "code",
   "execution_count": 9,
   "id": "9102b7b1-6c1f-4eff-9bf7-1d4b9d4772dc",
   "metadata": {
    "scrolled": true
   },
   "outputs": [
    {
     "ename": "ValueError",
     "evalue": "invalid literal for int() with base 10: '?'",
     "output_type": "error",
     "traceback": [
      "\u001b[1;31m---------------------------------------------------------------------------\u001b[0m",
      "\u001b[1;31mValueError\u001b[0m                                Traceback (most recent call last)",
      "Cell \u001b[1;32mIn[9], line 2\u001b[0m\n\u001b[0;32m      1\u001b[0m \u001b[38;5;66;03m# changing 'horsepower' type from object to int\u001b[39;00m\n\u001b[1;32m----> 2\u001b[0m df\u001b[38;5;241m.\u001b[39mhorsepower \u001b[38;5;241m=\u001b[39m \u001b[43mdf\u001b[49m\u001b[38;5;241;43m.\u001b[39;49m\u001b[43mhorsepower\u001b[49m\u001b[38;5;241;43m.\u001b[39;49m\u001b[43mastype\u001b[49m\u001b[43m(\u001b[49m\u001b[38;5;124;43m'\u001b[39;49m\u001b[38;5;124;43mint\u001b[39;49m\u001b[38;5;124;43m'\u001b[39;49m\u001b[43m)\u001b[49m\n",
      "File \u001b[1;32m~\\AppData\\Local\\anaconda3\\lib\\site-packages\\pandas\\core\\generic.py:6534\u001b[0m, in \u001b[0;36mNDFrame.astype\u001b[1;34m(self, dtype, copy, errors)\u001b[0m\n\u001b[0;32m   6530\u001b[0m     results \u001b[38;5;241m=\u001b[39m [ser\u001b[38;5;241m.\u001b[39mastype(dtype, copy\u001b[38;5;241m=\u001b[39mcopy) \u001b[38;5;28;01mfor\u001b[39;00m _, ser \u001b[38;5;129;01min\u001b[39;00m \u001b[38;5;28mself\u001b[39m\u001b[38;5;241m.\u001b[39mitems()]\n\u001b[0;32m   6532\u001b[0m \u001b[38;5;28;01melse\u001b[39;00m:\n\u001b[0;32m   6533\u001b[0m     \u001b[38;5;66;03m# else, only a single dtype is given\u001b[39;00m\n\u001b[1;32m-> 6534\u001b[0m     new_data \u001b[38;5;241m=\u001b[39m \u001b[38;5;28;43mself\u001b[39;49m\u001b[38;5;241;43m.\u001b[39;49m\u001b[43m_mgr\u001b[49m\u001b[38;5;241;43m.\u001b[39;49m\u001b[43mastype\u001b[49m\u001b[43m(\u001b[49m\u001b[43mdtype\u001b[49m\u001b[38;5;241;43m=\u001b[39;49m\u001b[43mdtype\u001b[49m\u001b[43m,\u001b[49m\u001b[43m \u001b[49m\u001b[43mcopy\u001b[49m\u001b[38;5;241;43m=\u001b[39;49m\u001b[43mcopy\u001b[49m\u001b[43m,\u001b[49m\u001b[43m \u001b[49m\u001b[43merrors\u001b[49m\u001b[38;5;241;43m=\u001b[39;49m\u001b[43merrors\u001b[49m\u001b[43m)\u001b[49m\n\u001b[0;32m   6535\u001b[0m     res \u001b[38;5;241m=\u001b[39m \u001b[38;5;28mself\u001b[39m\u001b[38;5;241m.\u001b[39m_constructor_from_mgr(new_data, axes\u001b[38;5;241m=\u001b[39mnew_data\u001b[38;5;241m.\u001b[39maxes)\n\u001b[0;32m   6536\u001b[0m     \u001b[38;5;28;01mreturn\u001b[39;00m res\u001b[38;5;241m.\u001b[39m__finalize__(\u001b[38;5;28mself\u001b[39m, method\u001b[38;5;241m=\u001b[39m\u001b[38;5;124m\"\u001b[39m\u001b[38;5;124mastype\u001b[39m\u001b[38;5;124m\"\u001b[39m)\n",
      "File \u001b[1;32m~\\AppData\\Local\\anaconda3\\lib\\site-packages\\pandas\\core\\internals\\managers.py:414\u001b[0m, in \u001b[0;36mBaseBlockManager.astype\u001b[1;34m(self, dtype, copy, errors)\u001b[0m\n\u001b[0;32m    411\u001b[0m \u001b[38;5;28;01melif\u001b[39;00m using_copy_on_write():\n\u001b[0;32m    412\u001b[0m     copy \u001b[38;5;241m=\u001b[39m \u001b[38;5;28;01mFalse\u001b[39;00m\n\u001b[1;32m--> 414\u001b[0m \u001b[38;5;28;01mreturn\u001b[39;00m \u001b[38;5;28;43mself\u001b[39;49m\u001b[38;5;241;43m.\u001b[39;49m\u001b[43mapply\u001b[49m\u001b[43m(\u001b[49m\n\u001b[0;32m    415\u001b[0m \u001b[43m    \u001b[49m\u001b[38;5;124;43m\"\u001b[39;49m\u001b[38;5;124;43mastype\u001b[39;49m\u001b[38;5;124;43m\"\u001b[39;49m\u001b[43m,\u001b[49m\n\u001b[0;32m    416\u001b[0m \u001b[43m    \u001b[49m\u001b[43mdtype\u001b[49m\u001b[38;5;241;43m=\u001b[39;49m\u001b[43mdtype\u001b[49m\u001b[43m,\u001b[49m\n\u001b[0;32m    417\u001b[0m \u001b[43m    \u001b[49m\u001b[43mcopy\u001b[49m\u001b[38;5;241;43m=\u001b[39;49m\u001b[43mcopy\u001b[49m\u001b[43m,\u001b[49m\n\u001b[0;32m    418\u001b[0m \u001b[43m    \u001b[49m\u001b[43merrors\u001b[49m\u001b[38;5;241;43m=\u001b[39;49m\u001b[43merrors\u001b[49m\u001b[43m,\u001b[49m\n\u001b[0;32m    419\u001b[0m \u001b[43m    \u001b[49m\u001b[43musing_cow\u001b[49m\u001b[38;5;241;43m=\u001b[39;49m\u001b[43musing_copy_on_write\u001b[49m\u001b[43m(\u001b[49m\u001b[43m)\u001b[49m\u001b[43m,\u001b[49m\n\u001b[0;32m    420\u001b[0m \u001b[43m\u001b[49m\u001b[43m)\u001b[49m\n",
      "File \u001b[1;32m~\\AppData\\Local\\anaconda3\\lib\\site-packages\\pandas\\core\\internals\\managers.py:354\u001b[0m, in \u001b[0;36mBaseBlockManager.apply\u001b[1;34m(self, f, align_keys, **kwargs)\u001b[0m\n\u001b[0;32m    352\u001b[0m         applied \u001b[38;5;241m=\u001b[39m b\u001b[38;5;241m.\u001b[39mapply(f, \u001b[38;5;241m*\u001b[39m\u001b[38;5;241m*\u001b[39mkwargs)\n\u001b[0;32m    353\u001b[0m     \u001b[38;5;28;01melse\u001b[39;00m:\n\u001b[1;32m--> 354\u001b[0m         applied \u001b[38;5;241m=\u001b[39m \u001b[38;5;28mgetattr\u001b[39m(b, f)(\u001b[38;5;241m*\u001b[39m\u001b[38;5;241m*\u001b[39mkwargs)\n\u001b[0;32m    355\u001b[0m     result_blocks \u001b[38;5;241m=\u001b[39m extend_blocks(applied, result_blocks)\n\u001b[0;32m    357\u001b[0m out \u001b[38;5;241m=\u001b[39m \u001b[38;5;28mtype\u001b[39m(\u001b[38;5;28mself\u001b[39m)\u001b[38;5;241m.\u001b[39mfrom_blocks(result_blocks, \u001b[38;5;28mself\u001b[39m\u001b[38;5;241m.\u001b[39maxes)\n",
      "File \u001b[1;32m~\\AppData\\Local\\anaconda3\\lib\\site-packages\\pandas\\core\\internals\\blocks.py:616\u001b[0m, in \u001b[0;36mBlock.astype\u001b[1;34m(self, dtype, copy, errors, using_cow)\u001b[0m\n\u001b[0;32m    596\u001b[0m \u001b[38;5;250m\u001b[39m\u001b[38;5;124;03m\"\"\"\u001b[39;00m\n\u001b[0;32m    597\u001b[0m \u001b[38;5;124;03mCoerce to the new dtype.\u001b[39;00m\n\u001b[0;32m    598\u001b[0m \n\u001b[1;32m   (...)\u001b[0m\n\u001b[0;32m    612\u001b[0m \u001b[38;5;124;03mBlock\u001b[39;00m\n\u001b[0;32m    613\u001b[0m \u001b[38;5;124;03m\"\"\"\u001b[39;00m\n\u001b[0;32m    614\u001b[0m values \u001b[38;5;241m=\u001b[39m \u001b[38;5;28mself\u001b[39m\u001b[38;5;241m.\u001b[39mvalues\n\u001b[1;32m--> 616\u001b[0m new_values \u001b[38;5;241m=\u001b[39m \u001b[43mastype_array_safe\u001b[49m\u001b[43m(\u001b[49m\u001b[43mvalues\u001b[49m\u001b[43m,\u001b[49m\u001b[43m \u001b[49m\u001b[43mdtype\u001b[49m\u001b[43m,\u001b[49m\u001b[43m \u001b[49m\u001b[43mcopy\u001b[49m\u001b[38;5;241;43m=\u001b[39;49m\u001b[43mcopy\u001b[49m\u001b[43m,\u001b[49m\u001b[43m \u001b[49m\u001b[43merrors\u001b[49m\u001b[38;5;241;43m=\u001b[39;49m\u001b[43merrors\u001b[49m\u001b[43m)\u001b[49m\n\u001b[0;32m    618\u001b[0m new_values \u001b[38;5;241m=\u001b[39m maybe_coerce_values(new_values)\n\u001b[0;32m    620\u001b[0m refs \u001b[38;5;241m=\u001b[39m \u001b[38;5;28;01mNone\u001b[39;00m\n",
      "File \u001b[1;32m~\\AppData\\Local\\anaconda3\\lib\\site-packages\\pandas\\core\\dtypes\\astype.py:238\u001b[0m, in \u001b[0;36mastype_array_safe\u001b[1;34m(values, dtype, copy, errors)\u001b[0m\n\u001b[0;32m    235\u001b[0m     dtype \u001b[38;5;241m=\u001b[39m dtype\u001b[38;5;241m.\u001b[39mnumpy_dtype\n\u001b[0;32m    237\u001b[0m \u001b[38;5;28;01mtry\u001b[39;00m:\n\u001b[1;32m--> 238\u001b[0m     new_values \u001b[38;5;241m=\u001b[39m \u001b[43mastype_array\u001b[49m\u001b[43m(\u001b[49m\u001b[43mvalues\u001b[49m\u001b[43m,\u001b[49m\u001b[43m \u001b[49m\u001b[43mdtype\u001b[49m\u001b[43m,\u001b[49m\u001b[43m \u001b[49m\u001b[43mcopy\u001b[49m\u001b[38;5;241;43m=\u001b[39;49m\u001b[43mcopy\u001b[49m\u001b[43m)\u001b[49m\n\u001b[0;32m    239\u001b[0m \u001b[38;5;28;01mexcept\u001b[39;00m (\u001b[38;5;167;01mValueError\u001b[39;00m, \u001b[38;5;167;01mTypeError\u001b[39;00m):\n\u001b[0;32m    240\u001b[0m     \u001b[38;5;66;03m# e.g. _astype_nansafe can fail on object-dtype of strings\u001b[39;00m\n\u001b[0;32m    241\u001b[0m     \u001b[38;5;66;03m#  trying to convert to float\u001b[39;00m\n\u001b[0;32m    242\u001b[0m     \u001b[38;5;28;01mif\u001b[39;00m errors \u001b[38;5;241m==\u001b[39m \u001b[38;5;124m\"\u001b[39m\u001b[38;5;124mignore\u001b[39m\u001b[38;5;124m\"\u001b[39m:\n",
      "File \u001b[1;32m~\\AppData\\Local\\anaconda3\\lib\\site-packages\\pandas\\core\\dtypes\\astype.py:183\u001b[0m, in \u001b[0;36mastype_array\u001b[1;34m(values, dtype, copy)\u001b[0m\n\u001b[0;32m    180\u001b[0m     values \u001b[38;5;241m=\u001b[39m values\u001b[38;5;241m.\u001b[39mastype(dtype, copy\u001b[38;5;241m=\u001b[39mcopy)\n\u001b[0;32m    182\u001b[0m \u001b[38;5;28;01melse\u001b[39;00m:\n\u001b[1;32m--> 183\u001b[0m     values \u001b[38;5;241m=\u001b[39m \u001b[43m_astype_nansafe\u001b[49m\u001b[43m(\u001b[49m\u001b[43mvalues\u001b[49m\u001b[43m,\u001b[49m\u001b[43m \u001b[49m\u001b[43mdtype\u001b[49m\u001b[43m,\u001b[49m\u001b[43m \u001b[49m\u001b[43mcopy\u001b[49m\u001b[38;5;241;43m=\u001b[39;49m\u001b[43mcopy\u001b[49m\u001b[43m)\u001b[49m\n\u001b[0;32m    185\u001b[0m \u001b[38;5;66;03m# in pandas we don't store numpy str dtypes, so convert to object\u001b[39;00m\n\u001b[0;32m    186\u001b[0m \u001b[38;5;28;01mif\u001b[39;00m \u001b[38;5;28misinstance\u001b[39m(dtype, np\u001b[38;5;241m.\u001b[39mdtype) \u001b[38;5;129;01mand\u001b[39;00m \u001b[38;5;28missubclass\u001b[39m(values\u001b[38;5;241m.\u001b[39mdtype\u001b[38;5;241m.\u001b[39mtype, \u001b[38;5;28mstr\u001b[39m):\n",
      "File \u001b[1;32m~\\AppData\\Local\\anaconda3\\lib\\site-packages\\pandas\\core\\dtypes\\astype.py:134\u001b[0m, in \u001b[0;36m_astype_nansafe\u001b[1;34m(arr, dtype, copy, skipna)\u001b[0m\n\u001b[0;32m    130\u001b[0m     \u001b[38;5;28;01mraise\u001b[39;00m \u001b[38;5;167;01mValueError\u001b[39;00m(msg)\n\u001b[0;32m    132\u001b[0m \u001b[38;5;28;01mif\u001b[39;00m copy \u001b[38;5;129;01mor\u001b[39;00m arr\u001b[38;5;241m.\u001b[39mdtype \u001b[38;5;241m==\u001b[39m \u001b[38;5;28mobject\u001b[39m \u001b[38;5;129;01mor\u001b[39;00m dtype \u001b[38;5;241m==\u001b[39m \u001b[38;5;28mobject\u001b[39m:\n\u001b[0;32m    133\u001b[0m     \u001b[38;5;66;03m# Explicit copy, or required since NumPy can't view from / to object.\u001b[39;00m\n\u001b[1;32m--> 134\u001b[0m     \u001b[38;5;28;01mreturn\u001b[39;00m \u001b[43marr\u001b[49m\u001b[38;5;241;43m.\u001b[39;49m\u001b[43mastype\u001b[49m\u001b[43m(\u001b[49m\u001b[43mdtype\u001b[49m\u001b[43m,\u001b[49m\u001b[43m \u001b[49m\u001b[43mcopy\u001b[49m\u001b[38;5;241;43m=\u001b[39;49m\u001b[38;5;28;43;01mTrue\u001b[39;49;00m\u001b[43m)\u001b[49m\n\u001b[0;32m    136\u001b[0m \u001b[38;5;28;01mreturn\u001b[39;00m arr\u001b[38;5;241m.\u001b[39mastype(dtype, copy\u001b[38;5;241m=\u001b[39mcopy)\n",
      "\u001b[1;31mValueError\u001b[0m: invalid literal for int() with base 10: '?'"
     ]
    }
   ],
   "source": [
    "# changing 'horsepower' type from object to int\n",
    "df.horsepower = df.horsepower.astype('int')\n"
   ]
  },
  {
   "cell_type": "markdown",
   "id": "5067425d-08fe-4e8b-b048-1c00d5601efa",
   "metadata": {},
   "source": [
    "The above attempt failed to change the data type of the column `horsepower` and returned an error due to the column containing string values '?', we will have to take care of the strings before converting to float type."
   ]
  },
  {
   "cell_type": "code",
   "execution_count": 10,
   "id": "93375e75-7cba-4ac2-8008-eab0dfdbdc11",
   "metadata": {},
   "outputs": [
    {
     "data": {
      "text/plain": [
       "['?', '?', '?', '?', '?', '?']"
      ]
     },
     "execution_count": 10,
     "metadata": {},
     "output_type": "execute_result"
    }
   ],
   "source": [
    "# finding all unconvertible strings in the 'horsepower' column\n",
    "strings = [ string for string in df['horsepower'] if string.isdigit() == False]\n",
    "strings"
   ]
  },
  {
   "cell_type": "markdown",
   "id": "154f2d2d-2078-497f-998e-1669e6b2e990",
   "metadata": {},
   "source": [
    "There are 6 uncomvertible strings in the column and all of them are the same '?'\n",
    "\n",
    "we could drop these rows for simplicity of the example, however\n",
    "We will use the median of the column to replace these strings"
   ]
  },
  {
   "cell_type": "code",
   "execution_count": 11,
   "id": "b6e3c83d-21b9-40c6-8666-ca0be72d0ef8",
   "metadata": {},
   "outputs": [],
   "source": [
    "# replacing the '?' strings with None types\n",
    "df['horsepower'] = np.where(df['horsepower'] == '?',None,df['horsepower'])"
   ]
  },
  {
   "cell_type": "code",
   "execution_count": 12,
   "id": "2398e802-20dc-4cf8-9e23-68d0c980b5b6",
   "metadata": {},
   "outputs": [],
   "source": [
    "# creating a method to fill the None types with the median\n",
    "medianFiller = lambda x: x.fillna(x.median())\n",
    "df = df.apply(medianFiller,axis=0)"
   ]
  },
  {
   "cell_type": "code",
   "execution_count": 13,
   "id": "be10e0d5-693d-4e67-9b98-f690e3df4cb2",
   "metadata": {},
   "outputs": [],
   "source": [
    "# let's convert the horsepower column from object type to float type\n",
    "df.horsepower = df.horsepower.astype(float)"
   ]
  },
  {
   "cell_type": "code",
   "execution_count": 14,
   "id": "1b83ceaa-3a5c-4b3c-adb0-0c43f1f7f97d",
   "metadata": {},
   "outputs": [
    {
     "data": {
      "text/html": [
       "<div>\n",
       "<style scoped>\n",
       "    .dataframe tbody tr th:only-of-type {\n",
       "        vertical-align: middle;\n",
       "    }\n",
       "\n",
       "    .dataframe tbody tr th {\n",
       "        vertical-align: top;\n",
       "    }\n",
       "\n",
       "    .dataframe thead th {\n",
       "        text-align: right;\n",
       "    }\n",
       "</style>\n",
       "<table border=\"1\" class=\"dataframe\">\n",
       "  <thead>\n",
       "    <tr style=\"text-align: right;\">\n",
       "      <th></th>\n",
       "      <th>mpg</th>\n",
       "      <th>cylinders</th>\n",
       "      <th>displacement</th>\n",
       "      <th>horsepower</th>\n",
       "      <th>weight</th>\n",
       "      <th>acceleration</th>\n",
       "      <th>model year</th>\n",
       "      <th>origin</th>\n",
       "    </tr>\n",
       "  </thead>\n",
       "  <tbody>\n",
       "    <tr>\n",
       "      <th>0</th>\n",
       "      <td>18.0</td>\n",
       "      <td>8</td>\n",
       "      <td>307.0</td>\n",
       "      <td>130.0</td>\n",
       "      <td>3504</td>\n",
       "      <td>12.0</td>\n",
       "      <td>70</td>\n",
       "      <td>1</td>\n",
       "    </tr>\n",
       "    <tr>\n",
       "      <th>1</th>\n",
       "      <td>15.0</td>\n",
       "      <td>8</td>\n",
       "      <td>350.0</td>\n",
       "      <td>165.0</td>\n",
       "      <td>3693</td>\n",
       "      <td>11.5</td>\n",
       "      <td>70</td>\n",
       "      <td>1</td>\n",
       "    </tr>\n",
       "    <tr>\n",
       "      <th>2</th>\n",
       "      <td>18.0</td>\n",
       "      <td>8</td>\n",
       "      <td>318.0</td>\n",
       "      <td>150.0</td>\n",
       "      <td>3436</td>\n",
       "      <td>11.0</td>\n",
       "      <td>70</td>\n",
       "      <td>1</td>\n",
       "    </tr>\n",
       "    <tr>\n",
       "      <th>3</th>\n",
       "      <td>16.0</td>\n",
       "      <td>8</td>\n",
       "      <td>304.0</td>\n",
       "      <td>150.0</td>\n",
       "      <td>3433</td>\n",
       "      <td>12.0</td>\n",
       "      <td>70</td>\n",
       "      <td>1</td>\n",
       "    </tr>\n",
       "    <tr>\n",
       "      <th>4</th>\n",
       "      <td>17.0</td>\n",
       "      <td>8</td>\n",
       "      <td>302.0</td>\n",
       "      <td>140.0</td>\n",
       "      <td>3449</td>\n",
       "      <td>10.5</td>\n",
       "      <td>70</td>\n",
       "      <td>1</td>\n",
       "    </tr>\n",
       "  </tbody>\n",
       "</table>\n",
       "</div>"
      ],
      "text/plain": [
       "    mpg  cylinders  displacement  horsepower  weight  acceleration  \\\n",
       "0  18.0          8         307.0       130.0    3504          12.0   \n",
       "1  15.0          8         350.0       165.0    3693          11.5   \n",
       "2  18.0          8         318.0       150.0    3436          11.0   \n",
       "3  16.0          8         304.0       150.0    3433          12.0   \n",
       "4  17.0          8         302.0       140.0    3449          10.5   \n",
       "\n",
       "   model year  origin  \n",
       "0          70       1  \n",
       "1          70       1  \n",
       "2          70       1  \n",
       "3          70       1  \n",
       "4          70       1  "
      ]
     },
     "execution_count": 14,
     "metadata": {},
     "output_type": "execute_result"
    }
   ],
   "source": [
    "# looking at final dataset\n",
    "df.head()"
   ]
  },
  {
   "cell_type": "markdown",
   "id": "e09bccf1-76b5-40a9-ae4c-59fe5a7e3cc4",
   "metadata": {},
   "source": [
    "## 3. Model\n",
    "\n",
    "* Build Model\n",
    "* Evaluate Model\n",
    "* Make Predictions"
   ]
  },
  {
   "cell_type": "markdown",
   "id": "27fac52f-9154-408b-a7d8-505d242c99fd",
   "metadata": {},
   "source": [
    "## 3.1 Building Model"
   ]
  },
  {
   "cell_type": "code",
   "execution_count": 15,
   "id": "c0d8af9c-dfa1-458f-a464-11607d692db8",
   "metadata": {},
   "outputs": [],
   "source": [
    "# Separating Independent variables\n",
    "X = df.drop('mpg',axis=1)\n",
    "\n",
    "# Separating Dependent variable (Target variable)\n",
    "y = df['mpg']"
   ]
  },
  {
   "cell_type": "code",
   "execution_count": 16,
   "id": "75c5ea53-1312-4482-bf36-422cb4775894",
   "metadata": {},
   "outputs": [],
   "source": [
    "# splitting data into training and testing sets\n",
    "X_train,X_test, y_train, y_test = train_test_split(X,y, test_size=0.3, random_state=123)"
   ]
  },
  {
   "cell_type": "code",
   "execution_count": 17,
   "id": "9d2dacf0-f17d-436c-9efa-bad9bb50bfa1",
   "metadata": {},
   "outputs": [],
   "source": [
    "# defining model\n",
    "model = Lasso()\n",
    "\n",
    "# trainning model\n",
    "model.fit(X_train, y_train);\n"
   ]
  },
  {
   "cell_type": "markdown",
   "id": "3ff60ad2-014d-4ff5-ba39-cda0dd359d18",
   "metadata": {},
   "source": [
    "## 3.2 Evaluating Model\n",
    "\n",
    "we will use the R^2 value to evaluate model"
   ]
  },
  {
   "cell_type": "code",
   "execution_count": 18,
   "id": "a949866b-eec0-4d0e-9ddf-f94dc128ba6f",
   "metadata": {},
   "outputs": [
    {
     "name": "stdout",
     "output_type": "stream",
     "text": [
      "Trainning R^2: 0.81\n",
      "Testing R^2: 0.80\n"
     ]
    }
   ],
   "source": [
    "# Evaluate Model\n",
    "print(f'Trainning R^2: {model.score(X_train,y_train):.2f}')\n",
    "print(f'Testing R^2: {model.score(X_test,y_test):.2f}')"
   ]
  },
  {
   "cell_type": "markdown",
   "id": "18f5c081-3bba-4040-ab1f-57a9f6f1ab9d",
   "metadata": {},
   "source": [
    "The R^2 values are very close for both the training and testing data, indicating that there is no overfitting\n",
    "\n",
    "The model can explain 80% of the variation on the testing data"
   ]
  },
  {
   "cell_type": "markdown",
   "id": "ebdfb501-54ef-4b63-a7ae-b52e8f756ec8",
   "metadata": {},
   "source": [
    "## 3.3 Making Predictions\n",
    "\n",
    "Car with:\n",
    "\n",
    "* Cylinders: 6\n",
    "* displacement: 250\n",
    "* HorsePower: 100\n",
    "* Weight: 3282\n",
    "* Acceleration: 15\n",
    "* Model Year: 71\n",
    "* Origin: 1 (American)"
   ]
  },
  {
   "cell_type": "code",
   "execution_count": 19,
   "id": "21cc6b0a-06f5-4141-85f6-d144fbac763a",
   "metadata": {},
   "outputs": [
    {
     "data": {
      "text/plain": [
       "array([17.90570095])"
      ]
     },
     "execution_count": 19,
     "metadata": {},
     "output_type": "execute_result"
    }
   ],
   "source": [
    "model.predict([[6,250,100,3282,15,71,1]])"
   ]
  },
  {
   "cell_type": "markdown",
   "id": "6459b124-7c41-4aa8-81b0-9bc8f557fbc5",
   "metadata": {},
   "source": [
    "## 4 Understanding the model\n",
    "\n",
    "**Lasso regression model:**\n",
    "\n",
    "Lasso (Least Absolute Shrinkage and Selection Operator) is a regression analysis method that performs both variable selection and regularization in order to enhance the prediction accuracy and interpretability of the resulting linear model.\n",
    "\n",
    "Equation of a line:\n",
    "\n",
    "$\n",
    "y = mx + b\n",
    "$\n",
    "\n",
    "Where:\n",
    "        \n",
    "    y: dependent variable\n",
    "    m: coefficient (slope)\n",
    "    x: independent variable\n",
    "    b: y-intercept\n",
    "            \n",
    "Depending on the number of independent variables the equation can also look like:\n",
    "\n",
    "\n",
    "$\n",
    "y = mx_1 + mx_2 + mx_3 + .... + mx_n + b\n",
    "$\n"
   ]
  },
  {
   "cell_type": "code",
   "execution_count": 20,
   "id": "8cd47bb5-e77a-472c-945d-d37714879df7",
   "metadata": {},
   "outputs": [
    {
     "data": {
      "text/plain": [
       "array([-0.        , -0.00415628,  0.        , -0.00628693,  0.        ,\n",
       "        0.68956463,  0.        ])"
      ]
     },
     "execution_count": 20,
     "metadata": {},
     "output_type": "execute_result"
    }
   ],
   "source": [
    "# getting the coefficients of the model's linear equation \n",
    "model.coef_"
   ]
  },
  {
   "cell_type": "markdown",
   "id": "5e2b5257-97e3-4383-9f5d-97bc5c3f3c24",
   "metadata": {},
   "source": [
    "`cylinders`, `horsepower`, `acceleration`, and `origin` variables were droppred from the final model"
   ]
  },
  {
   "cell_type": "code",
   "execution_count": 21,
   "id": "3ffaddd7-7322-4714-b7da-167c5c01f547",
   "metadata": {},
   "outputs": [
    {
     "data": {
      "text/plain": [
       "4"
      ]
     },
     "execution_count": 21,
     "metadata": {},
     "output_type": "execute_result"
    }
   ],
   "source": [
    "len(model.coef_[model.coef_ == 0]) # total dropped variables"
   ]
  },
  {
   "cell_type": "code",
   "execution_count": 22,
   "id": "b546c505-9858-48f1-b6a6-e7afcbe83c66",
   "metadata": {},
   "outputs": [
    {
     "data": {
      "text/plain": [
       "-9.380614845397869"
      ]
     },
     "execution_count": 22,
     "metadata": {},
     "output_type": "execute_result"
    }
   ],
   "source": [
    "# getting the y-intercept of the model's linear equation\n",
    "model.intercept_"
   ]
  },
  {
   "cell_type": "code",
   "execution_count": 23,
   "id": "03e0086f-5e24-4d3f-aee1-839dc8083102",
   "metadata": {},
   "outputs": [],
   "source": [
    "# creating a list of the independent variables and modifying the name for simplicity and better visualization of the equation\n",
    "factors1 = X.columns\n",
    "\n",
    "# creating a list of the coefficients and reducing the number of digits for simplicity and better visualization of the equation\n",
    "coefficients = np.around(model.coef_,4).tolist()"
   ]
  },
  {
   "cell_type": "code",
   "execution_count": 24,
   "id": "5bf26c53-32a5-4627-bc01-272a6c7057cb",
   "metadata": {},
   "outputs": [],
   "source": [
    "# creating a string of the full equation of our model\n",
    "string = ''\n",
    "for m,x in zip(factors1,coefficients):\n",
    "    if m != factors1[0] and x > 0:\n",
    "        string = string + f' + {x}*{m}'\n",
    "    elif x < 0:\n",
    "        string = string + f' - {x*-1}*{m}'\n",
    "    elif x == 0:\n",
    "        continue\n",
    "\n",
    "string = 'y = ' + string + ' ' + str(np.around(model.intercept_,4))"
   ]
  },
  {
   "cell_type": "code",
   "execution_count": 25,
   "id": "70529faf-2636-4c3d-b8fd-6f29e61f886d",
   "metadata": {},
   "outputs": [
    {
     "data": {
      "text/plain": [
       "'y =  - 0.0042*displacement - 0.0063*weight + 0.6896*model year -9.3806'"
      ]
     },
     "execution_count": 25,
     "metadata": {},
     "output_type": "execute_result"
    }
   ],
   "source": [
    "string"
   ]
  },
  {
   "cell_type": "markdown",
   "id": "4fbb3f21-1ae3-4e9b-9170-6f17b784ac10",
   "metadata": {},
   "source": [
    "## Lasso Regression Model\n",
    "\n",
    "$\n",
    "y =  - 0.0042*displacement - 0.0063*weight + 0.6896*model year -9.3806\n",
    "$"
   ]
  },
  {
   "cell_type": "markdown",
   "id": "4b37b33c-d6b0-4e8d-9fa5-8b1167ece97d",
   "metadata": {},
   "source": [
    "## 5 Hyper paramenter tunning\n",
    "\n",
    "Lets try to improve the accuracy of the model"
   ]
  },
  {
   "cell_type": "code",
   "execution_count": 26,
   "id": "a731d526-030a-4000-b433-5190935a039e",
   "metadata": {},
   "outputs": [
    {
     "name": "stdout",
     "output_type": "stream",
     "text": [
      "Alpha = 0.10,\n",
      "    dropped variables: 0,\n",
      "    r-squared training: 0.83,\n",
      "    r-squared test: 0.79 \n",
      "\n",
      "Alpha = 1.00,\n",
      "    dropped variables: 4,\n",
      "    r-squared training: 0.81,\n",
      "    r-squared test: 0.80 \n",
      "\n",
      "Alpha = 2.00,\n",
      "    dropped variables: 4,\n",
      "    r-squared training: 0.80,\n",
      "    r-squared test: 0.80 \n",
      "\n",
      "Alpha = 3.00,\n",
      "    dropped variables: 4,\n",
      "    r-squared training: 0.80,\n",
      "    r-squared test: 0.79 \n",
      "\n",
      "Alpha = 4.00,\n",
      "    dropped variables: 4,\n",
      "    r-squared training: 0.79,\n",
      "    r-squared test: 0.78 \n",
      "\n",
      "Alpha = 5.00,\n",
      "    dropped variables: 4,\n",
      "    r-squared training: 0.78,\n",
      "    r-squared test: 0.77 \n",
      "\n",
      "Alpha = 6.00,\n",
      "    dropped variables: 4,\n",
      "    r-squared training: 0.76,\n",
      "    r-squared test: 0.76 \n",
      "\n",
      "Alpha = 7.00,\n",
      "    dropped variables: 3,\n",
      "    r-squared training: 0.74,\n",
      "    r-squared test: 0.74 \n",
      "\n"
     ]
    }
   ],
   "source": [
    "# Lasso regression: effect of alpha regularization parameter\n",
    "\n",
    "for alpha in [0.1,1,2,3,4,5,6,7]:\n",
    "    \n",
    "    # Initialize and train the model\n",
    "    model = Lasso(alpha=alpha)\n",
    "    model.fit(X_train, y_train)\n",
    "    \n",
    "    # getting the R^2 value\n",
    "    dropped_variables = len(model.coef_[model.coef_ == 0])\n",
    "    r2_train = model.score(X_train, y_train)\n",
    "    r2_test = model.score(X_test, y_test)\n",
    "    \n",
    "    print(f'''Alpha = {alpha:.2f},\n",
    "    dropped variables: {dropped_variables},\n",
    "    r-squared training: {r2_train:.2f},\n",
    "    r-squared test: {r2_test:.2f} \\n''')"
   ]
  },
  {
   "cell_type": "markdown",
   "id": "c65b0bfb-85b3-4f74-a384-89ce9a99a2ab",
   "metadata": {},
   "source": [
    "Below are the parameters that can be tunned for improved scores"
   ]
  },
  {
   "cell_type": "code",
   "execution_count": 27,
   "id": "94189554-7611-4cb7-b4ce-1944a971d6c5",
   "metadata": {},
   "outputs": [],
   "source": [
    "model_params = Lasso(alpha=1.0, \n",
    "            fit_intercept=True, \n",
    "            precompute=False, \n",
    "            copy_X=True, \n",
    "            max_iter=1000, \n",
    "            tol=0.0001, \n",
    "            warm_start=False, \n",
    "            positive=False, \n",
    "            random_state=None, \n",
    "            selection='cyclic')"
   ]
  },
  {
   "cell_type": "code",
   "execution_count": null,
   "id": "6689f342-0074-4c40-9773-575aacde64c2",
   "metadata": {},
   "outputs": [],
   "source": []
  }
 ],
 "metadata": {
  "kernelspec": {
   "display_name": "Python 3 (ipykernel)",
   "language": "python",
   "name": "python3"
  },
  "language_info": {
   "codemirror_mode": {
    "name": "ipython",
    "version": 3
   },
   "file_extension": ".py",
   "mimetype": "text/x-python",
   "name": "python",
   "nbconvert_exporter": "python",
   "pygments_lexer": "ipython3",
   "version": "3.10.13"
  }
 },
 "nbformat": 4,
 "nbformat_minor": 5
}
